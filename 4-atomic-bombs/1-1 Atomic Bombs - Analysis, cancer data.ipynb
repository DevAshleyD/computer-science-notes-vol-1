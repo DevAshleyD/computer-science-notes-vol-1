{
 "cells": [
  {
   "cell_type": "markdown",
   "metadata": {},
   "source": [
    "# Counting Atomic Bomb Survivors\n",
    "\n",
    "https://www.e-stat.go.jp/stat-search/files?page=1&layout=datalist&toukei=00450161&tstat=000001089035&cycle=8&tclass1=000001097755\n",
    "\n",
    "https://www.mhlw.go.jp/toukei/list/88-1b.html#kekka\n",
    "\n",
    "\n",
    "REPORT:\n",
    "\n",
    "https://www.mhlw.go.jp/toukei/list/dl/88-1b-02.pdf\n",
    "\n",
    "\n",
    "https://www.pri.org/stories/2017-11-17/how-other-countries-can-help-us-understand-americas-mass-shooting-crisis\n",
    "\n",
    "\n",
    "http://www.storybench.org/how-pris-the-world-conveyed-the-death-toll-of-mass-shootings-using-sound/"
   ]
  },
  {
   "cell_type": "code",
   "execution_count": 5,
   "metadata": {},
   "outputs": [],
   "source": [
    "import pandas as pd\n",
    "import re\n",
    "import numpy as np\n",
    "\n",
    "import math\n",
    "import statistics\n",
    "\n",
    "import pandas as pd\n",
    "import matplotlib\n",
    "import matplotlib.pyplot as plt\n",
    "import seaborn as sns\n",
    "matplotlib.rcParams['pdf.fonttype'] = 42\n",
    "\n",
    "%matplotlib inline\n",
    "\n",
    "pd.set_option('display.max_columns', 1000)\n",
    "pd.set_option('display.width', 1000)"
   ]
  },
  {
   "cell_type": "code",
   "execution_count": 16,
   "metadata": {},
   "outputs": [
    {
     "data": {
      "text/html": [
       "<div>\n",
       "<style scoped>\n",
       "    .dataframe tbody tr th:only-of-type {\n",
       "        vertical-align: middle;\n",
       "    }\n",
       "\n",
       "    .dataframe tbody tr th {\n",
       "        vertical-align: top;\n",
       "    }\n",
       "\n",
       "    .dataframe thead th {\n",
       "        text-align: right;\n",
       "    }\n",
       "</style>\n",
       "<table border=\"1\" class=\"dataframe\">\n",
       "  <thead>\n",
       "    <tr style=\"text-align: right;\">\n",
       "      <th></th>\n",
       "      <th>year</th>\n",
       "      <th>hibakusha_total</th>\n",
       "    </tr>\n",
       "  </thead>\n",
       "  <tbody>\n",
       "    <tr>\n",
       "      <th>57</th>\n",
       "      <td>2014</td>\n",
       "      <td>183519</td>\n",
       "    </tr>\n",
       "    <tr>\n",
       "      <th>58</th>\n",
       "      <td>2015</td>\n",
       "      <td>174080</td>\n",
       "    </tr>\n",
       "    <tr>\n",
       "      <th>59</th>\n",
       "      <td>2016</td>\n",
       "      <td>164621</td>\n",
       "    </tr>\n",
       "    <tr>\n",
       "      <th>60</th>\n",
       "      <td>2017</td>\n",
       "      <td>154859</td>\n",
       "    </tr>\n",
       "    <tr>\n",
       "      <th>61</th>\n",
       "      <td>2018</td>\n",
       "      <td>145844</td>\n",
       "    </tr>\n",
       "  </tbody>\n",
       "</table>\n",
       "</div>"
      ],
      "text/plain": [
       "    year  hibakusha_total\n",
       "57  2014           183519\n",
       "58  2015           174080\n",
       "59  2016           164621\n",
       "60  2017           154859\n",
       "61  2018           145844"
      ]
     },
     "execution_count": 16,
     "metadata": {},
     "output_type": "execute_result"
    }
   ],
   "source": [
    "hibakusha = pd.read_csv('data/hibakusha_data_cleaned.csv')\n",
    "hibakusha.tail(5)"
   ]
  },
  {
   "cell_type": "markdown",
   "metadata": {},
   "source": [
    "## CANCER DATA\n",
    "\n",
    "Sex\n",
    "\n",
    "* 1 : Male\n",
    "* 2 : Female\n",
    "\n",
    "Ground distance cat:\n",
    "\n",
    "* 1 : <3000 m\n",
    "* 2 : 3000-<15000\n",
    "* 3 : NIC\n",
    "\n",
    "etc"
   ]
  },
  {
   "cell_type": "code",
   "execution_count": 11,
   "metadata": {},
   "outputs": [],
   "source": [
    "cancer_col = {\n",
    "    'agxcat':'age_at_exposure',\n",
    "    'agecat':'attained_age',\n",
    "    'distcat':'ground_distance_categories',\n",
    "    'nhl':'Non Hodgkin lymphoma',\n",
    "    'hi':'Hodgkin lymphoma',\n",
    "    'mye':'Myeloma',\n",
    "    'all':'Acute lymphoblastic leukemia',\n",
    "    'oll':'Aleukemia/subleukemic lymphoid leukemia',\n",
    "    'alltot':'total ALL',\n",
    "    'cll':'Chronic lymphocytic leukemia',\n",
    "    'hcl':'Hairy cell leukemia',\n",
    "    'clltot':'Total CLL',\n",
    "    'atl':'Adult T-cell leukemia',\n",
    "    'aml':'Acute myeloid leukemia',\n",
    "    'oml':'a-/sub-leukemic myeloid leukemia, or myeloid leukemia NOS',\n",
    "    'amol':'Acute monocytic leukemia',\n",
    "    'amltot':'total_AML',\n",
    "    'cml':'Chronic myeloid leukemia',\n",
    "    'othleuk':'Other leukemia',\n",
    "    'noncll':'Non-CLL/non-ATL leumemia',\n",
    "    'leuktot':'total_leukemia',\n",
    "    'hldtot':'all_events'\n",
    "}\n",
    "cancer = pd.read_csv('data/cancer/lsshempy.csv')"
   ]
  },
  {
   "cell_type": "code",
   "execution_count": 13,
   "metadata": {},
   "outputs": [
    {
     "data": {
      "text/html": [
       "<div>\n",
       "<style scoped>\n",
       "    .dataframe tbody tr th:only-of-type {\n",
       "        vertical-align: middle;\n",
       "    }\n",
       "\n",
       "    .dataframe tbody tr th {\n",
       "        vertical-align: top;\n",
       "    }\n",
       "\n",
       "    .dataframe thead th {\n",
       "        text-align: right;\n",
       "    }\n",
       "</style>\n",
       "<table border=\"1\" class=\"dataframe\">\n",
       "  <thead>\n",
       "    <tr style=\"text-align: right;\">\n",
       "      <th></th>\n",
       "      <th>city</th>\n",
       "      <th>sex</th>\n",
       "      <th>un4gy</th>\n",
       "      <th>ground_distance_categories</th>\n",
       "      <th>age_at_exposure</th>\n",
       "      <th>attained_age</th>\n",
       "      <th>dcat</th>\n",
       "      <th>time</th>\n",
       "      <th>upyr</th>\n",
       "      <th>pyr</th>\n",
       "      <th>subjects</th>\n",
       "      <th>gdist</th>\n",
       "      <th>agex</th>\n",
       "      <th>age</th>\n",
       "      <th>year</th>\n",
       "      <th>Non Hodgkin lymphoma</th>\n",
       "      <th>hl</th>\n",
       "      <th>Myeloma</th>\n",
       "      <th>Acute lymphoblastic leukemia</th>\n",
       "      <th>Aleukemia/subleukemic lymphoid leukemia</th>\n",
       "      <th>total ALL</th>\n",
       "      <th>Chronic lymphocytic leukemia</th>\n",
       "      <th>Hairy cell leukemia</th>\n",
       "      <th>Total CLL</th>\n",
       "      <th>Adult T-cell leukemia</th>\n",
       "      <th>Acute myeloid leukemia</th>\n",
       "      <th>a-/sub-leukemic myeloid leukemia, or myeloid leukemia NOS</th>\n",
       "      <th>Acute monocytic leukemia</th>\n",
       "      <th>total_AML</th>\n",
       "      <th>Chronic myeloid leukemia</th>\n",
       "      <th>Other leukemia</th>\n",
       "      <th>Non-CLL/non-ATL leumemia</th>\n",
       "      <th>total_leukemia</th>\n",
       "      <th>all_events</th>\n",
       "      <th>mar_ad10</th>\n",
       "      <th>mar_ag</th>\n",
       "      <th>mar_an</th>\n",
       "    </tr>\n",
       "  </thead>\n",
       "  <tbody>\n",
       "    <tr>\n",
       "      <th>0</th>\n",
       "      <td>1</td>\n",
       "      <td>1</td>\n",
       "      <td>0</td>\n",
       "      <td>1</td>\n",
       "      <td>1</td>\n",
       "      <td>2</td>\n",
       "      <td>23</td>\n",
       "      <td>1</td>\n",
       "      <td>9.01300</td>\n",
       "      <td>8.86005</td>\n",
       "      <td>4</td>\n",
       "      <td>753.7500</td>\n",
       "      <td>1.28750</td>\n",
       "      <td>7.56947</td>\n",
       "      <td>1951.877</td>\n",
       "      <td>0</td>\n",
       "      <td>0</td>\n",
       "      <td>0</td>\n",
       "      <td>0</td>\n",
       "      <td>0</td>\n",
       "      <td>0</td>\n",
       "      <td>0</td>\n",
       "      <td>0</td>\n",
       "      <td>0</td>\n",
       "      <td>0</td>\n",
       "      <td>0</td>\n",
       "      <td>0</td>\n",
       "      <td>0</td>\n",
       "      <td>0</td>\n",
       "      <td>0</td>\n",
       "      <td>0</td>\n",
       "      <td>0</td>\n",
       "      <td>0</td>\n",
       "      <td>0</td>\n",
       "      <td>4073.000</td>\n",
       "      <td>2850.000</td>\n",
       "      <td>122.3000</td>\n",
       "    </tr>\n",
       "    <tr>\n",
       "      <th>1</th>\n",
       "      <td>1</td>\n",
       "      <td>1</td>\n",
       "      <td>0</td>\n",
       "      <td>1</td>\n",
       "      <td>1</td>\n",
       "      <td>2</td>\n",
       "      <td>23</td>\n",
       "      <td>2</td>\n",
       "      <td>4.14921</td>\n",
       "      <td>4.07880</td>\n",
       "      <td>0</td>\n",
       "      <td>733.5444</td>\n",
       "      <td>0.94406</td>\n",
       "      <td>9.08584</td>\n",
       "      <td>1953.736</td>\n",
       "      <td>0</td>\n",
       "      <td>0</td>\n",
       "      <td>0</td>\n",
       "      <td>1</td>\n",
       "      <td>0</td>\n",
       "      <td>1</td>\n",
       "      <td>0</td>\n",
       "      <td>0</td>\n",
       "      <td>0</td>\n",
       "      <td>0</td>\n",
       "      <td>0</td>\n",
       "      <td>0</td>\n",
       "      <td>0</td>\n",
       "      <td>0</td>\n",
       "      <td>0</td>\n",
       "      <td>0</td>\n",
       "      <td>1</td>\n",
       "      <td>1</td>\n",
       "      <td>1</td>\n",
       "      <td>4089.514</td>\n",
       "      <td>2837.892</td>\n",
       "      <td>125.1623</td>\n",
       "    </tr>\n",
       "    <tr>\n",
       "      <th>2</th>\n",
       "      <td>1</td>\n",
       "      <td>1</td>\n",
       "      <td>0</td>\n",
       "      <td>1</td>\n",
       "      <td>1</td>\n",
       "      <td>3</td>\n",
       "      <td>23</td>\n",
       "      <td>1</td>\n",
       "      <td>2.25325</td>\n",
       "      <td>2.21501</td>\n",
       "      <td>1</td>\n",
       "      <td>901.0000</td>\n",
       "      <td>4.99000</td>\n",
       "      <td>11.27584</td>\n",
       "      <td>1951.877</td>\n",
       "      <td>0</td>\n",
       "      <td>0</td>\n",
       "      <td>0</td>\n",
       "      <td>0</td>\n",
       "      <td>0</td>\n",
       "      <td>0</td>\n",
       "      <td>0</td>\n",
       "      <td>0</td>\n",
       "      <td>0</td>\n",
       "      <td>0</td>\n",
       "      <td>0</td>\n",
       "      <td>0</td>\n",
       "      <td>0</td>\n",
       "      <td>0</td>\n",
       "      <td>0</td>\n",
       "      <td>0</td>\n",
       "      <td>0</td>\n",
       "      <td>0</td>\n",
       "      <td>0</td>\n",
       "      <td>3569.000</td>\n",
       "      <td>2900.000</td>\n",
       "      <td>66.9000</td>\n",
       "    </tr>\n",
       "  </tbody>\n",
       "</table>\n",
       "</div>"
      ],
      "text/plain": [
       "   city  sex  un4gy  ground_distance_categories  age_at_exposure  attained_age  dcat  time     upyr      pyr  subjects     gdist     agex       age      year  Non Hodgkin lymphoma  hl  Myeloma  Acute lymphoblastic leukemia  Aleukemia/subleukemic lymphoid leukemia  total ALL  Chronic lymphocytic leukemia  Hairy cell leukemia  Total CLL  Adult T-cell leukemia  Acute myeloid leukemia  a-/sub-leukemic myeloid leukemia, or myeloid leukemia NOS  Acute monocytic leukemia  total_AML  Chronic myeloid leukemia  Other leukemia  Non-CLL/non-ATL leumemia  total_leukemia  all_events  mar_ad10    mar_ag    mar_an\n",
       "0     1    1      0                           1                1             2    23     1  9.01300  8.86005         4  753.7500  1.28750   7.56947  1951.877                     0   0        0                             0                                        0          0                             0                    0          0                      0                       0                                                  0                                 0          0                         0               0                         0               0           0  4073.000  2850.000  122.3000\n",
       "1     1    1      0                           1                1             2    23     2  4.14921  4.07880         0  733.5444  0.94406   9.08584  1953.736                     0   0        0                             1                                        0          1                             0                    0          0                      0                       0                                                  0                                 0          0                         0               0                         1               1           1  4089.514  2837.892  125.1623\n",
       "2     1    1      0                           1                1             3    23     1  2.25325  2.21501         1  901.0000  4.99000  11.27584  1951.877                     0   0        0                             0                                        0          0                             0                    0          0                      0                       0                                                  0                                 0          0                         0               0                         0               0           0  3569.000  2900.000   66.9000"
      ]
     },
     "execution_count": 13,
     "metadata": {},
     "output_type": "execute_result"
    }
   ],
   "source": [
    "cancer = cancer.rename(columns=cancer_col)\n",
    "cancer.head(3)"
   ]
  },
  {
   "cell_type": "code",
   "execution_count": 60,
   "metadata": {},
   "outputs": [
    {
     "data": {
      "text/plain": [
       "(38578,)"
      ]
     },
     "execution_count": 60,
     "metadata": {},
     "output_type": "execute_result"
    }
   ],
   "source": [
    "cancer.age_at_exposure.shape"
   ]
  },
  {
   "cell_type": "code",
   "execution_count": 59,
   "metadata": {
    "scrolled": true
   },
   "outputs": [
    {
     "data": {
      "text/plain": [
       "3     3683\n",
       "1     3646\n",
       "2     3568\n",
       "4     3559\n",
       "6     3346\n",
       "5     3190\n",
       "7     3155\n",
       "8     2974\n",
       "9     2723\n",
       "10    2421\n",
       "11    1955\n",
       "12    1579\n",
       "13    1194\n",
       "14     914\n",
       "15     671\n",
       "Name: age_at_exposure, dtype: int64"
      ]
     },
     "execution_count": 59,
     "metadata": {},
     "output_type": "execute_result"
    }
   ],
   "source": [
    "cancer.age_at_exposure.sort_index().value_counts(dropna=False)"
   ]
  },
  {
   "cell_type": "code",
   "execution_count": 27,
   "metadata": {},
   "outputs": [
    {
     "data": {
      "image/png": "[encoded data removed]",
      "text/plain": [
       "<Figure size 432x288 with 1 Axes>"
      ]
     },
     "metadata": {
      "needs_background": "light"
     },
     "output_type": "display_data"
    }
   ],
   "source": [
    "ax = cancer.age_at_exposure.value_counts().sort_index(ascending=False).\\\n",
    "    plot(kind='barh', title='Age at exposure')\n",
    "\n",
    "# for idx, value in enumerate(df['grad_yr_bin'].value_counts(sort=False, ascending=False)):\n",
    "#     ax.text(10, idx, value, color='black')\n",
    "    \n",
    "plt.savefig(\"charts/age-at-exposure.pdf\",  bbox_inches='tight')"
   ]
  },
  {
   "cell_type": "code",
   "execution_count": null,
   "metadata": {},
   "outputs": [],
   "source": []
  },
  {
   "cell_type": "code",
   "execution_count": null,
   "metadata": {},
   "outputs": [],
   "source": []
  },
  {
   "cell_type": "code",
   "execution_count": null,
   "metadata": {},
   "outputs": [],
   "source": []
  },
  {
   "cell_type": "code",
   "execution_count": 28,
   "metadata": {},
   "outputs": [
    {
     "data": {
      "image/png": "[encoded data removed]",
      "text/plain": [
       "<Figure size 432x288 with 1 Axes>"
      ]
     },
     "metadata": {
      "needs_background": "light"
     },
     "output_type": "display_data"
    }
   ],
   "source": [
    "ax = cancer.ground_distance_categories.value_counts().sort_index(ascending=False).\\\n",
    "    plot(kind='barh', title='Ground distance')\n",
    "\n",
    "plt.savefig(\"charts/ground-distance.pdf\",  bbox_inches='tight')"
   ]
  },
  {
   "cell_type": "code",
   "execution_count": 37,
   "metadata": {},
   "outputs": [
    {
     "data": {
      "text/plain": [
       "0    38185\n",
       "1      384\n",
       "2        9\n",
       "Name: total_leukemia, dtype: int64"
      ]
     },
     "execution_count": 37,
     "metadata": {},
     "output_type": "execute_result"
    }
   ],
   "source": [
    "cancer.total_leukemia.value_counts(dropna=False)"
   ]
  },
  {
   "cell_type": "code",
   "execution_count": 38,
   "metadata": {},
   "outputs": [
    {
     "data": {
      "text/plain": [
       "(38578, 37)"
      ]
     },
     "execution_count": 38,
     "metadata": {},
     "output_type": "execute_result"
    }
   ],
   "source": [
    "cancer.shape"
   ]
  },
  {
   "cell_type": "code",
   "execution_count": 45,
   "metadata": {
    "scrolled": true
   },
   "outputs": [
    {
     "data": {
      "text/plain": [
       "<matplotlib.axes._subplots.AxesSubplot at 0x11ebe2898>"
      ]
     },
     "execution_count": 45,
     "metadata": {},
     "output_type": "execute_result"
    },
    {
     "data": {
      "image/png": "[encoded data removed]",
      "text/plain": [
       "<Figure size 720x504 with 1 Axes>"
      ]
     },
     "metadata": {
      "needs_background": "light"
     },
     "output_type": "display_data"
    }
   ],
   "source": [
    "cancer.groupby('age_at_exposure').total_leukemia.\\\n",
    "        value_counts().sort_index(ascending=False).\\\n",
    "plot(kind='barh', figsize=(10,7))"
   ]
  },
  {
   "cell_type": "code",
   "execution_count": 53,
   "metadata": {},
   "outputs": [
    {
     "data": {
      "text/plain": [
       "0    37669\n",
       "1      823\n",
       "2       72\n",
       "3       11\n",
       "4        3\n",
       "Name: all_events, dtype: int64"
      ]
     },
     "execution_count": 53,
     "metadata": {},
     "output_type": "execute_result"
    }
   ],
   "source": [
    "cancer.all_events.value_counts()"
   ]
  },
  {
   "cell_type": "code",
   "execution_count": 54,
   "metadata": {},
   "outputs": [
    {
     "data": {
      "image/png": "[encoded data removed]",
      "text/plain": [
       "<Figure size 432x288 with 1 Axes>"
      ]
     },
     "metadata": {
      "needs_background": "light"
     },
     "output_type": "display_data"
    }
   ],
   "source": [
    "cancer[cancer.total_leukemia == 1].groupby('age_at_exposure').size().\\\n",
    "    sort_index(ascending=False).\\\n",
    "    plot(kind='barh', title='Age breakdown, leukemia')\n",
    "\n",
    "\n",
    "plt.savefig(\"charts/leuk-by-age.pdf\",  bbox_inches='tight')"
   ]
  },
  {
   "cell_type": "code",
   "execution_count": null,
   "metadata": {},
   "outputs": [],
   "source": []
  },
  {
   "cell_type": "code",
   "execution_count": null,
   "metadata": {},
   "outputs": [],
   "source": []
  },
  {
   "cell_type": "code",
   "execution_count": 18,
   "metadata": {},
   "outputs": [
    {
     "data": {
      "text/html": [
       "<div>\n",
       "<style scoped>\n",
       "    .dataframe tbody tr th:only-of-type {\n",
       "        vertical-align: middle;\n",
       "    }\n",
       "\n",
       "    .dataframe tbody tr th {\n",
       "        vertical-align: top;\n",
       "    }\n",
       "\n",
       "    .dataframe thead th {\n",
       "        text-align: right;\n",
       "    }\n",
       "</style>\n",
       "<table border=\"1\" class=\"dataframe\">\n",
       "  <thead>\n",
       "    <tr style=\"text-align: right;\">\n",
       "      <th></th>\n",
       "      <th>hibakusha_type</th>\n",
       "      <th>total</th>\n",
       "    </tr>\n",
       "  </thead>\n",
       "  <tbody>\n",
       "    <tr>\n",
       "      <th>0</th>\n",
       "      <td>1_direct_hit</td>\n",
       "      <td>90923</td>\n",
       "    </tr>\n",
       "    <tr>\n",
       "      <th>1</th>\n",
       "      <td>2_entered</td>\n",
       "      <td>31733</td>\n",
       "    </tr>\n",
       "    <tr>\n",
       "      <th>2</th>\n",
       "      <td>3_rescue</td>\n",
       "      <td>16209</td>\n",
       "    </tr>\n",
       "    <tr>\n",
       "      <th>3</th>\n",
       "      <td>4_foetus</td>\n",
       "      <td>6979</td>\n",
       "    </tr>\n",
       "  </tbody>\n",
       "</table>\n",
       "</div>"
      ],
      "text/plain": [
       "  hibakusha_type  total\n",
       "0   1_direct_hit  90923\n",
       "1      2_entered  31733\n",
       "2       3_rescue  16209\n",
       "3       4_foetus   6979"
      ]
     },
     "execution_count": 18,
     "metadata": {},
     "output_type": "execute_result"
    }
   ],
   "source": [
    "hibakusha_type = pd.read_csv('data/hibakusha_2019_cleaned.csv')\n",
    "hibakusha_recent"
   ]
  },
  {
   "cell_type": "code",
   "execution_count": null,
   "metadata": {},
   "outputs": [],
   "source": []
  }
 ],
 "metadata": {
  "kernelspec": {
   "display_name": "Python 3",
   "language": "python",
   "name": "python3"
  },
  "language_info": {
   "codemirror_mode": {
    "name": "ipython",
    "version": 3
   },
   "file_extension": ".py",
   "mimetype": "text/x-python",
   "name": "python",
   "nbconvert_exporter": "python",
   "pygments_lexer": "ipython3",
   "version": "3.6.5"
  }
 },
 "nbformat": 4,
 "nbformat_minor": 2
}
