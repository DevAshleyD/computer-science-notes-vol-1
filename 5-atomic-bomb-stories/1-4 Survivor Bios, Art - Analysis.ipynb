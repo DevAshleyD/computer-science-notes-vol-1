{
 "cells": [
  {
   "cell_type": "code",
   "execution_count": 38,
   "metadata": {},
   "outputs": [],
   "source": [
    "import requests\n",
    "import pandas as pd\n",
    "import re\n",
    "import numpy as np\n",
    "import os\n",
    "\n",
    "from bs4 import BeautifulSoup\n",
    "\n",
    "import pandas as pd\n",
    "import matplotlib\n",
    "import matplotlib.pyplot as plt\n",
    "import seaborn as sns\n",
    "matplotlib.rcParams['pdf.fonttype'] = 42\n",
    "\n",
    "%matplotlib inline\n",
    "\n",
    "pd.set_option('display.max_rows', 10000)\n",
    "pd.set_option('display.max_columns', 10000)\n",
    "pd.set_option('display.max_colwidth', 10000)\n"
   ]
  },
  {
   "cell_type": "code",
   "execution_count": 39,
   "metadata": {},
   "outputs": [],
   "source": [
    "df = pd.read_csv('data/bios-art-complete.csv')"
   ]
  },
  {
   "cell_type": "code",
   "execution_count": 40,
   "metadata": {},
   "outputs": [
    {
     "data": {
      "text/plain": [
       "(3278, 30)"
      ]
     },
     "execution_count": 40,
     "metadata": {},
     "output_type": "execute_result"
    }
   ],
   "source": [
    "df.shape"
   ]
  },
  {
   "cell_type": "code",
   "execution_count": 41,
   "metadata": {},
   "outputs": [
    {
     "data": {
      "text/plain": [
       "{0.0: 3,\n",
       " 1.0: 9,\n",
       " 2.0: 9,\n",
       " 3.0: 14,\n",
       " 4.0: 16,\n",
       " 5.0: 21,\n",
       " 6.0: 29,\n",
       " 7.0: 16,\n",
       " 8.0: 34,\n",
       " 9.0: 45,\n",
       " 10.0: 26,\n",
       " 11.0: 27,\n",
       " 12.0: 61,\n",
       " 13.0: 100,\n",
       " 14.0: 111,\n",
       " 15.0: 113,\n",
       " 16.0: 129,\n",
       " 17.0: 117,\n",
       " 18.0: 76,\n",
       " 19.0: 80,\n",
       " 20.0: 44,\n",
       " 21.0: 67,\n",
       " 22.0: 40,\n",
       " 23.0: 28,\n",
       " 24.0: 31,\n",
       " 25.0: 11,\n",
       " 26.0: 24,\n",
       " 27.0: 9,\n",
       " 28.0: 15,\n",
       " 29.0: 10,\n",
       " 30.0: 17,\n",
       " 31.0: 8,\n",
       " 32.0: 11,\n",
       " 33.0: 11,\n",
       " 34.0: 7,\n",
       " 35.0: 1,\n",
       " 36.0: 5,\n",
       " 37.0: 11,\n",
       " 38.0: 5,\n",
       " 39.0: 2,\n",
       " 40.0: 3,\n",
       " 41.0: 2,\n",
       " 42.0: 2,\n",
       " 44.0: 2,\n",
       " 45.0: 7,\n",
       " 48.0: 1,\n",
       " 84.0: 1,\n",
       " 86.0: 1}"
      ]
     },
     "execution_count": 41,
     "metadata": {},
     "output_type": "execute_result"
    }
   ],
   "source": [
    "age_dict = dict(df.groupby('age_exposure_cleaned').size())\n",
    "age_dict"
   ]
  },
  {
   "cell_type": "code",
   "execution_count": 42,
   "metadata": {},
   "outputs": [
    {
     "data": {
      "text/plain": [
       "age_exposure_detail          float64\n",
       "code_x                        object\n",
       "details_x                     object\n",
       "work_location                 object\n",
       "id_hiroshima                 float64\n",
       "production_date               object\n",
       "name_romaji                   object\n",
       "record_location               object\n",
       "exposure_pref                 object\n",
       "id_globalpeace               float64\n",
       "exposure_loc_filled           object\n",
       "status_then_filled            object\n",
       "status_then_detail_filled     object\n",
       "name_filled                   object\n",
       "slug_filled                   object\n",
       "age_production_filled         object\n",
       "exposure_dist_cleaned        float64\n",
       "age_exposure_cleaned         float64\n",
       "is_female                    float64\n",
       "No                           float64\n",
       "code_y                        object\n",
       "details_y                     object\n",
       "artist                        object\n",
       "date_depicted                 object\n",
       "location_depicted             object\n",
       "age_drawing                   object\n",
       "artist_explanation            object\n",
       "drawing_dist_from_bomb        object\n",
       "exhibit_explanation           object\n",
       "url                           object\n",
       "dtype: object"
      ]
     },
     "execution_count": 42,
     "metadata": {},
     "output_type": "execute_result"
    }
   ],
   "source": [
    "df.dtypes"
   ]
  },
  {
   "cell_type": "code",
   "execution_count": 43,
   "metadata": {},
   "outputs": [
    {
     "data": {
      "text/plain": [
       "<matplotlib.axes._subplots.AxesSubplot at 0x119e91e10>"
      ]
     },
     "execution_count": 43,
     "metadata": {},
     "output_type": "execute_result"
    },
    {
     "data": {
      "image/png": "[encoded data removed]",
      "text/plain": [
       "<Figure size 720x360 with 1 Axes>"
      ]
     },
     "metadata": {
      "needs_background": "light"
     },
     "output_type": "display_data"
    }
   ],
   "source": [
    "df.groupby('age_exposure_cleaned').size().plot(kind='bar', figsize=(10,5))"
   ]
  },
  {
   "cell_type": "code",
   "execution_count": 44,
   "metadata": {},
   "outputs": [],
   "source": [
    "age_df = df[['age_exposure_cleaned']].sort_values('age_exposure_cleaned').reset_index().drop(columns=['index'])"
   ]
  },
  {
   "cell_type": "code",
   "execution_count": 45,
   "metadata": {},
   "outputs": [],
   "source": [
    "v_counts = pd.DataFrame(age_df.age_exposure_cleaned.value_counts()).reset_index()"
   ]
  },
  {
   "cell_type": "code",
   "execution_count": 46,
   "metadata": {},
   "outputs": [
    {
     "data": {
      "text/plain": [
       "Index(['index', 'age_exposure_cleaned'], dtype='object')"
      ]
     },
     "execution_count": 46,
     "metadata": {},
     "output_type": "execute_result"
    }
   ],
   "source": [
    "v_counts.columns"
   ]
  },
  {
   "cell_type": "code",
   "execution_count": 47,
   "metadata": {},
   "outputs": [],
   "source": [
    "v_counts = v_counts.rename(columns={'index':'age', 'age_exposure_cleaned':'count'})"
   ]
  },
  {
   "cell_type": "code",
   "execution_count": 48,
   "metadata": {},
   "outputs": [
    {
     "data": {
      "text/html": [
       "<div>\n",
       "<style scoped>\n",
       "    .dataframe tbody tr th:only-of-type {\n",
       "        vertical-align: middle;\n",
       "    }\n",
       "\n",
       "    .dataframe tbody tr th {\n",
       "        vertical-align: top;\n",
       "    }\n",
       "\n",
       "    .dataframe thead th {\n",
       "        text-align: right;\n",
       "    }\n",
       "</style>\n",
       "<table border=\"1\" class=\"dataframe\">\n",
       "  <thead>\n",
       "    <tr style=\"text-align: right;\">\n",
       "      <th></th>\n",
       "      <th>age</th>\n",
       "      <th>count</th>\n",
       "    </tr>\n",
       "  </thead>\n",
       "  <tbody>\n",
       "    <tr>\n",
       "      <th>0</th>\n",
       "      <td>16.0</td>\n",
       "      <td>129</td>\n",
       "    </tr>\n",
       "  </tbody>\n",
       "</table>\n",
       "</div>"
      ],
      "text/plain": [
       "    age  count\n",
       "0  16.0    129"
      ]
     },
     "execution_count": 48,
     "metadata": {},
     "output_type": "execute_result"
    }
   ],
   "source": [
    "v_counts.head(1)"
   ]
  },
  {
   "cell_type": "code",
   "execution_count": 49,
   "metadata": {},
   "outputs": [],
   "source": [
    "age_df = age_df.merge(v_counts, left_on='age_exposure_cleaned', right_on='age', how='left').drop(columns=['age'])"
   ]
  },
  {
   "cell_type": "code",
   "execution_count": 50,
   "metadata": {},
   "outputs": [
    {
     "data": {
      "text/html": [
       "<div>\n",
       "<style scoped>\n",
       "    .dataframe tbody tr th:only-of-type {\n",
       "        vertical-align: middle;\n",
       "    }\n",
       "\n",
       "    .dataframe tbody tr th {\n",
       "        vertical-align: top;\n",
       "    }\n",
       "\n",
       "    .dataframe thead th {\n",
       "        text-align: right;\n",
       "    }\n",
       "</style>\n",
       "<table border=\"1\" class=\"dataframe\">\n",
       "  <thead>\n",
       "    <tr style=\"text-align: right;\">\n",
       "      <th></th>\n",
       "      <th>age_exposure_cleaned</th>\n",
       "      <th>count</th>\n",
       "    </tr>\n",
       "  </thead>\n",
       "  <tbody>\n",
       "    <tr>\n",
       "      <th>0</th>\n",
       "      <td>0.0</td>\n",
       "      <td>3.0</td>\n",
       "    </tr>\n",
       "  </tbody>\n",
       "</table>\n",
       "</div>"
      ],
      "text/plain": [
       "   age_exposure_cleaned  count\n",
       "0                   0.0    3.0"
      ]
     },
     "execution_count": 50,
     "metadata": {},
     "output_type": "execute_result"
    }
   ],
   "source": [
    "age_df.head(1)"
   ]
  },
  {
   "cell_type": "code",
   "execution_count": 51,
   "metadata": {},
   "outputs": [
    {
     "data": {
      "text/plain": [
       "3.0"
      ]
     },
     "execution_count": 51,
     "metadata": {},
     "output_type": "execute_result"
    }
   ],
   "source": [
    "age_df.loc[0, 'count']"
   ]
  },
  {
   "cell_type": "code",
   "execution_count": 52,
   "metadata": {},
   "outputs": [
    {
     "data": {
      "text/plain": [
       "3.0"
      ]
     },
     "execution_count": 52,
     "metadata": {},
     "output_type": "execute_result"
    }
   ],
   "source": [
    "age_df.loc[0, 'count']"
   ]
  },
  {
   "cell_type": "code",
   "execution_count": 53,
   "metadata": {},
   "outputs": [
    {
     "data": {
      "text/plain": [
       "Text(0.5, 1.0, 'Age of exposure')"
      ]
     },
     "execution_count": 53,
     "metadata": {},
     "output_type": "execute_result"
    },
    {
     "data": {
      "image/png": "[encoded data removed]",
      "text/plain": [
       "<Figure size 1080x360 with 1 Axes>"
      ]
     },
     "metadata": {
      "needs_background": "light"
     },
     "output_type": "display_data"
    }
   ],
   "source": [
    "fig, ax = plt.subplots(figsize=(15,5))\n",
    "ax = sns.stripplot(x='age_exposure_cleaned', y='count', data=age_df, #jitter=True,\n",
    "                   color='grey',\n",
    "                  size=8, alpha=0.3)\n",
    "ax.set_title('Age of exposure')\n",
    "\n",
    "# plt.savefig(\"charts/age-scatter.pdf\",  bbox_inches='tight')"
   ]
  },
  {
   "cell_type": "markdown",
   "metadata": {},
   "source": [
    "# JUST BIOS"
   ]
  },
  {
   "cell_type": "code",
   "execution_count": 64,
   "metadata": {},
   "outputs": [
    {
     "data": {
      "text/plain": [
       "(1312, 19)"
      ]
     },
     "execution_count": 64,
     "metadata": {},
     "output_type": "execute_result"
    }
   ],
   "source": [
    "bios = pd.read_csv('data/survivors_bio_complete_cleaned.csv')\n",
    "bios.shape"
   ]
  },
  {
   "cell_type": "code",
   "execution_count": 55,
   "metadata": {},
   "outputs": [
    {
     "data": {
      "text/plain": [
       "Index(['age_exposure_detail', 'code', 'details', 'work_location',\n",
       "       'id_hiroshima', 'production_date', 'name_romaji', 'record_location',\n",
       "       'exposure_pref', 'id_globalpeace', 'exposure_loc_filled',\n",
       "       'status_then_filled', 'status_then_detail_filled', 'name_filled',\n",
       "       'slug_filled', 'age_production_filled', 'exposure_dist_cleaned',\n",
       "       'age_exposure_cleaned', 'is_female'],\n",
       "      dtype='object')"
      ]
     },
     "execution_count": 55,
     "metadata": {},
     "output_type": "execute_result"
    }
   ],
   "source": [
    "bios.columns"
   ]
  },
  {
   "cell_type": "code",
   "execution_count": 56,
   "metadata": {},
   "outputs": [
    {
     "data": {
      "text/plain": [
       "age_exposure_detail          float64\n",
       "code                          object\n",
       "details                       object\n",
       "work_location                 object\n",
       "id_hiroshima                 float64\n",
       "production_date               object\n",
       "name_romaji                   object\n",
       "record_location               object\n",
       "exposure_pref                 object\n",
       "id_globalpeace               float64\n",
       "exposure_loc_filled           object\n",
       "status_then_filled            object\n",
       "status_then_detail_filled     object\n",
       "name_filled                   object\n",
       "slug_filled                   object\n",
       "age_production_filled         object\n",
       "exposure_dist_cleaned        float64\n",
       "age_exposure_cleaned         float64\n",
       "is_female                    float64\n",
       "dtype: object"
      ]
     },
     "execution_count": 56,
     "metadata": {},
     "output_type": "execute_result"
    }
   ],
   "source": [
    "bios.dtypes"
   ]
  },
  {
   "cell_type": "code",
   "execution_count": 57,
   "metadata": {},
   "outputs": [
    {
     "data": {
      "image/png": "[encoded data removed]",
      "text/plain": [
       "<Figure size 720x360 with 1 Axes>"
      ]
     },
     "metadata": {
      "needs_background": "light"
     },
     "output_type": "display_data"
    }
   ],
   "source": [
    "ax = bios.groupby('age_exposure_cleaned').size().plot(kind='bar', figsize=(10,5))"
   ]
  },
  {
   "cell_type": "code",
   "execution_count": 71,
   "metadata": {},
   "outputs": [
    {
     "data": {
      "text/html": [
       "<div>\n",
       "<style scoped>\n",
       "    .dataframe tbody tr th:only-of-type {\n",
       "        vertical-align: middle;\n",
       "    }\n",
       "\n",
       "    .dataframe tbody tr th {\n",
       "        vertical-align: top;\n",
       "    }\n",
       "\n",
       "    .dataframe thead th {\n",
       "        text-align: right;\n",
       "    }\n",
       "</style>\n",
       "<table border=\"1\" class=\"dataframe\">\n",
       "  <thead>\n",
       "    <tr style=\"text-align: right;\">\n",
       "      <th></th>\n",
       "      <th>details</th>\n",
       "      <th>age_exposure_cleaned</th>\n",
       "      <th>name_romaji</th>\n",
       "      <th>exposure_pref</th>\n",
       "      <th>exposure_loc_filled</th>\n",
       "      <th>slug_filled</th>\n",
       "    </tr>\n",
       "  </thead>\n",
       "  <tbody>\n",
       "    <tr>\n",
       "      <th>775</th>\n",
       "      <td>NaN</td>\n",
       "      <td>35.0</td>\n",
       "      <td>egashira|chiyoko</td>\n",
       "      <td>長崎</td>\n",
       "      <td>三菱重工業㈱長崎兵器製作所 大橋工場(長崎市大橋町[現：長崎市文教町])</td>\n",
       "      <td>pic_syousai.php?gbID=107&amp;dt=190805151404</td>\n",
       "    </tr>\n",
       "  </tbody>\n",
       "</table>\n",
       "</div>"
      ],
      "text/plain": [
       "    details  age_exposure_cleaned       name_romaji exposure_pref  \\\n",
       "775     NaN                  35.0  egashira|chiyoko            長崎   \n",
       "\n",
       "                      exposure_loc_filled  \\\n",
       "775  三菱重工業㈱長崎兵器製作所 大橋工場(長崎市大橋町[現：長崎市文教町])   \n",
       "\n",
       "                                  slug_filled  \n",
       "775  pic_syousai.php?gbID=107&dt=190805151404  "
      ]
     },
     "execution_count": 71,
     "metadata": {},
     "output_type": "execute_result"
    }
   ],
   "source": [
    "bios_select = bios[['details', 'age_exposure_cleaned', 'name_romaji','exposure_pref', 'exposure_loc_filled','slug_filled']]\n",
    "\n",
    "bios_select[bios_select.age_exposure_cleaned == 35].sort_values('age_exposure_cleaned')"
   ]
  },
  {
   "cell_type": "code",
   "execution_count": null,
   "metadata": {},
   "outputs": [],
   "source": []
  }
 ],
 "metadata": {
  "kernelspec": {
   "display_name": "Python 3",
   "language": "python",
   "name": "python3"
  },
  "language_info": {
   "codemirror_mode": {
    "name": "ipython",
    "version": 3
   },
   "file_extension": ".py",
   "mimetype": "text/x-python",
   "name": "python",
   "nbconvert_exporter": "python",
   "pygments_lexer": "ipython3",
   "version": "3.6.5"
  }
 },
 "nbformat": 4,
 "nbformat_minor": 2
}
