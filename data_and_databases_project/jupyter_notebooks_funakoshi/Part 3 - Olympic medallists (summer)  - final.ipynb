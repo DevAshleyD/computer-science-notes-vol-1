{
 "cells": [
  {
   "cell_type": "markdown",
   "metadata": {},
   "source": [
    "# Lede Summer 2019 Project - Part 2\n",
    "# Make a database of female and male Olympic all-time medallists (summer)\n",
    "* Third attempt, use just 'most medals won' and scrape for medal count"
   ]
  },
  {
   "cell_type": "code",
   "execution_count": 1,
   "metadata": {},
   "outputs": [],
   "source": [
    "import requests\n",
    "import pandas as pd\n",
    "import re\n",
    "import numpy as np\n",
    "import os\n",
    "\n",
    "import itertools\n",
    "\n",
    "from bs4 import BeautifulSoup\n",
    "from selenium import webdriver"
   ]
  },
  {
   "cell_type": "markdown",
   "metadata": {},
   "source": [
    "#### LINKS:\n",
    "https://www.olympic.org/factsheets-and-reference-documents/records-and-medals\n",
    "\n",
    "WINTER:\n",
    "https://stillmed.olympic.org/media/Document%20Library/OlympicOrg/Factsheets-Reference-Documents/Games/Records-and-Medals/Factsheet-Records-of-medals-at-the-Olympic-Winter-Games.pdf#_ga=2.127809805.1432842169.1561491999-1688621044.1561491999"
   ]
  },
  {
   "cell_type": "markdown",
   "metadata": {},
   "source": [
    "### Turn pdf to text"
   ]
  },
  {
   "cell_type": "code",
   "execution_count": 3,
   "metadata": {},
   "outputs": [],
   "source": [
    "cols = ['gender', 'medal_count', 'last_name', 'first_name', 'citizenship', 'event', 'years']\n",
    "df = pd.read_csv('oly_summer_most.txt', sep=',', names=cols, index_col=False)"
   ]
  },
  {
   "cell_type": "markdown",
   "metadata": {},
   "source": [
    "### Manually clean the oly_summer_most.txt file using text editor\n",
    "\n",
    "* Standardise format of rows by adding columns, replacing dashes with commas, eliminating white space, formatting years so that they follow \\d\\d\\d\\d-\\d\\d\\d\\d format"
   ]
  },
  {
   "cell_type": "markdown",
   "metadata": {},
   "source": [
    "### Fill in values for medal type and gender"
   ]
  },
  {
   "cell_type": "code",
   "execution_count": 4,
   "metadata": {},
   "outputs": [],
   "source": [
    "df['gender'] = df.gender.fillna(method='ffill')\n",
    "df = df.dropna(subset = ['last_name'])"
   ]
  },
  {
   "cell_type": "code",
   "execution_count": 5,
   "metadata": {},
   "outputs": [
    {
     "data": {
      "text/plain": [
       "(29, 7)"
      ]
     },
     "execution_count": 5,
     "metadata": {},
     "output_type": "execute_result"
    }
   ],
   "source": [
    "# df['medal_type'] = df.medal_type.str.extract('Most (\\w+) medals.*')\n",
    "df['gender'] = df.gender.str.extract('.*[(](\\w+)[)]$')\n",
    "df.shape"
   ]
  },
  {
   "cell_type": "markdown",
   "metadata": {},
   "source": [
    "### Make a new column with the full name"
   ]
  },
  {
   "cell_type": "code",
   "execution_count": 6,
   "metadata": {},
   "outputs": [],
   "source": [
    "df['full_name'] = (df.first_name+df.last_name).str.strip()"
   ]
  },
  {
   "cell_type": "markdown",
   "metadata": {},
   "source": [
    "# Scrape medals data for athletes with missing data\n",
    "* Make endpoints for urls\n",
    "* Then clean up the endpoint for the extra dashes, Jr.s\n",
    "* Make a list of endpoints over which I can interate\n",
    "* Clean up the list of endpoints for athletes with a middle name or a hyphenated last names"
   ]
  },
  {
   "cell_type": "code",
   "execution_count": 7,
   "metadata": {},
   "outputs": [],
   "source": [
    "df['endpoint'] = df.full_name.str.replace(' ','-')"
   ]
  },
  {
   "cell_type": "code",
   "execution_count": 8,
   "metadata": {},
   "outputs": [],
   "source": [
    "# Clean up endpoint\n",
    "df['endpoint'] = df.endpoint.str.replace('--','-')\n",
    "df['endpoint'] = df.endpoint.str.replace('.','')\n",
    "# df"
   ]
  },
  {
   "cell_type": "code",
   "execution_count": 9,
   "metadata": {
    "scrolled": true
   },
   "outputs": [
    {
     "data": {
      "text/plain": [
       "29"
      ]
     },
     "execution_count": 9,
     "metadata": {},
     "output_type": "execute_result"
    }
   ],
   "source": [
    "# Make a list of endpoints\n",
    "athletes = df.endpoint.to_list()\n",
    "len(athletes)"
   ]
  },
  {
   "cell_type": "code",
   "execution_count": 10,
   "metadata": {},
   "outputs": [
    {
     "data": {
      "text/plain": [
       "29"
      ]
     },
     "execution_count": 10,
     "metadata": {},
     "output_type": "execute_result"
    }
   ],
   "source": [
    "## Clean the list for athletes with middle names and hyphenated last names\n",
    "\n",
    "for idx, name in enumerate(athletes):\n",
    "    if name == 'Carl-Townsend-OSBURN':\n",
    "        athletes[idx] = 'Carl-OSBURN'\n",
    "    elif name == 'Birgit-FISCHER-SCHMIDT':\n",
    "        athletes[idx] = 'Birgit-FISCHER'\n",
    "    else:\n",
    "        pass\n",
    "    \n",
    "len(athletes)"
   ]
  },
  {
   "cell_type": "markdown",
   "metadata": {},
   "source": [
    "### Edit the endpoints in the original dataframe so that they can be merged on endpoints later on!!!"
   ]
  },
  {
   "cell_type": "code",
   "execution_count": 11,
   "metadata": {},
   "outputs": [],
   "source": [
    "df['endpoint_cleaned'] = athletes"
   ]
  },
  {
   "cell_type": "code",
   "execution_count": 12,
   "metadata": {},
   "outputs": [],
   "source": [
    "rows = []\n",
    "for athlete in athletes:\n",
    "    try:\n",
    "        url = f'https://www.olympic.org/{athlete}'\n",
    "        response = requests.get(url)\n",
    "        doc = BeautifulSoup(response.text)\n",
    "        medals = doc.find(class_='medal-box').text.strip().split( ' \\n\\n\\n ')\n",
    "        \n",
    "        row = {}\n",
    "\n",
    "        gold = int(medals[0][1:])\n",
    "        silver = int(medals[1][1:])\n",
    "        bronze = int(medals[2][1:])\n",
    "        \n",
    "        row['endpoint'] = athlete\n",
    "        row['medals_gold'] = gold\n",
    "        row['medals_silver'] = silver\n",
    "        row['medals_bronze'] = bronze\n",
    "        row['medals_total'] = gold + silver + bronze\n",
    "    except:\n",
    "        print('-----')\n",
    "        print('ERROR WITH', athlete)\n",
    "        print('-----')\n",
    "    rows.append(row)"
   ]
  },
  {
   "cell_type": "code",
   "execution_count": 13,
   "metadata": {},
   "outputs": [
    {
     "data": {
      "text/plain": [
       "29"
      ]
     },
     "execution_count": 13,
     "metadata": {},
     "output_type": "execute_result"
    }
   ],
   "source": [
    "len(rows)"
   ]
  },
  {
   "cell_type": "code",
   "execution_count": 14,
   "metadata": {},
   "outputs": [
    {
     "data": {
      "text/plain": [
       "(29, 5)"
      ]
     },
     "execution_count": 14,
     "metadata": {},
     "output_type": "execute_result"
    }
   ],
   "source": [
    "df_medals = pd.DataFrame(rows)\n",
    "df_medals.shape"
   ]
  },
  {
   "cell_type": "code",
   "execution_count": 15,
   "metadata": {},
   "outputs": [],
   "source": [
    "merged = df.merge(df_medals, left_on='endpoint_cleaned', right_on='endpoint')"
   ]
  },
  {
   "cell_type": "code",
   "execution_count": 16,
   "metadata": {},
   "outputs": [
    {
     "data": {
      "text/plain": [
       "(29, 15)"
      ]
     },
     "execution_count": 16,
     "metadata": {},
     "output_type": "execute_result"
    }
   ],
   "source": [
    "merged.shape"
   ]
  },
  {
   "cell_type": "code",
   "execution_count": 17,
   "metadata": {},
   "outputs": [
    {
     "data": {
      "text/html": [
       "<div>\n",
       "<style scoped>\n",
       "    .dataframe tbody tr th:only-of-type {\n",
       "        vertical-align: middle;\n",
       "    }\n",
       "\n",
       "    .dataframe tbody tr th {\n",
       "        vertical-align: top;\n",
       "    }\n",
       "\n",
       "    .dataframe thead th {\n",
       "        text-align: right;\n",
       "    }\n",
       "</style>\n",
       "<table border=\"1\" class=\"dataframe\">\n",
       "  <thead>\n",
       "    <tr style=\"text-align: right;\">\n",
       "      <th></th>\n",
       "      <th>gender</th>\n",
       "      <th>medal_count</th>\n",
       "      <th>last_name</th>\n",
       "      <th>first_name</th>\n",
       "      <th>citizenship</th>\n",
       "      <th>event</th>\n",
       "      <th>years</th>\n",
       "      <th>full_name</th>\n",
       "      <th>endpoint_x</th>\n",
       "      <th>endpoint_cleaned</th>\n",
       "      <th>endpoint_y</th>\n",
       "      <th>medals_bronze</th>\n",
       "      <th>medals_gold</th>\n",
       "      <th>medals_silver</th>\n",
       "      <th>medals_total</th>\n",
       "    </tr>\n",
       "  </thead>\n",
       "  <tbody>\n",
       "    <tr>\n",
       "      <th>3</th>\n",
       "      <td>men</td>\n",
       "      <td>13.0</td>\n",
       "      <td>MANGIAROTTI</td>\n",
       "      <td>Edoardo</td>\n",
       "      <td>ITA</td>\n",
       "      <td>fencing</td>\n",
       "      <td>1936-1960</td>\n",
       "      <td>Edoardo MANGIAROTTI</td>\n",
       "      <td>Edoardo-MANGIAROTTI</td>\n",
       "      <td>Edoardo-MANGIAROTTI</td>\n",
       "      <td>Edoardo-MANGIAROTTI</td>\n",
       "      <td>2</td>\n",
       "      <td>5</td>\n",
       "      <td>5</td>\n",
       "      <td>12</td>\n",
       "    </tr>\n",
       "    <tr>\n",
       "      <th>16</th>\n",
       "      <td>men</td>\n",
       "      <td>10.0</td>\n",
       "      <td>GEREVICH</td>\n",
       "      <td>Aladar</td>\n",
       "      <td>HUN</td>\n",
       "      <td>fencing</td>\n",
       "      <td>1932-1960</td>\n",
       "      <td>Aladar GEREVICH</td>\n",
       "      <td>Aladar-GEREVICH</td>\n",
       "      <td>Aladar-GEREVICH</td>\n",
       "      <td>Aladar-GEREVICH</td>\n",
       "      <td>2</td>\n",
       "      <td>5</td>\n",
       "      <td>1</td>\n",
       "      <td>8</td>\n",
       "    </tr>\n",
       "  </tbody>\n",
       "</table>\n",
       "</div>"
      ],
      "text/plain": [
       "   gender  medal_count     last_name first_name citizenship     event  \\\n",
       "3     men         13.0   MANGIAROTTI    Edoardo         ITA   fencing   \n",
       "16    men         10.0      GEREVICH     Aladar         HUN   fencing   \n",
       "\n",
       "         years            full_name           endpoint_x     endpoint_cleaned  \\\n",
       "3    1936-1960  Edoardo MANGIAROTTI  Edoardo-MANGIAROTTI  Edoardo-MANGIAROTTI   \n",
       "16   1932-1960      Aladar GEREVICH      Aladar-GEREVICH      Aladar-GEREVICH   \n",
       "\n",
       "             endpoint_y  medals_bronze  medals_gold  medals_silver  \\\n",
       "3   Edoardo-MANGIAROTTI              2            5              5   \n",
       "16      Aladar-GEREVICH              2            5              1   \n",
       "\n",
       "    medals_total  \n",
       "3             12  \n",
       "16             8  "
      ]
     },
     "execution_count": 17,
     "metadata": {},
     "output_type": "execute_result"
    }
   ],
   "source": [
    "# Check to see the total medal counts match up\n",
    "merged[merged.medal_count != merged.medals_total]"
   ]
  },
  {
   "cell_type": "markdown",
   "metadata": {},
   "source": [
    "# FACT CHECK\n",
    "\n",
    "The medal count for MANGIAROTTI should be 13. (13 medals - 6 gold, 5 silver, 2 bronze)\n",
    "* http://www.espn.com/olympics/summer08/fanguide/athlete?athlete=8612\n",
    "\n",
    "The medal count for GEREVICH should be 10. (7 Gold, 1 Silver, 2 Bronze)\n",
    "* https://www.sports-reference.com/olympics/athletes/ge/aladar-ger"
   ]
  },
  {
   "cell_type": "markdown",
   "metadata": {},
   "source": [
    "## Manually edit incorrect values \n",
    "* MANGIAROTTI should be 13. (13 medals - 6 gold, 5 silver, 2 bronze), and\n",
    "\n",
    "* GEREVICH should be 10. (7 Gold, 1 Silver, 2 Bronze)"
   ]
  },
  {
   "cell_type": "code",
   "execution_count": 18,
   "metadata": {},
   "outputs": [
    {
     "data": {
      "text/plain": [
       "{'endpoint': 'Edoardo-MANGIAROTTI',\n",
       " 'medals_gold': 6,\n",
       " 'medals_silver': 5,\n",
       " 'medals_bronze': 2,\n",
       " 'medals_total': 13}"
      ]
     },
     "execution_count": 18,
     "metadata": {},
     "output_type": "execute_result"
    }
   ],
   "source": [
    "rows[3]['medals_gold'] = 6\n",
    "rows[3]['medals_total'] = 13\n",
    "rows[3]"
   ]
  },
  {
   "cell_type": "code",
   "execution_count": 19,
   "metadata": {},
   "outputs": [
    {
     "data": {
      "text/plain": [
       "{'endpoint': 'Aladar-GEREVICH',\n",
       " 'medals_gold': 7,\n",
       " 'medals_silver': 1,\n",
       " 'medals_bronze': 2,\n",
       " 'medals_total': 10}"
      ]
     },
     "execution_count": 19,
     "metadata": {},
     "output_type": "execute_result"
    }
   ],
   "source": [
    "rows[16]['medals_gold'] = 7\n",
    "rows[16]['medals_total'] = 10\n",
    "rows[16]"
   ]
  },
  {
   "cell_type": "markdown",
   "metadata": {},
   "source": [
    "# Re-do the dataframe transformation so that the correct medal counts are in the final, 'merged' dataframe"
   ]
  },
  {
   "cell_type": "code",
   "execution_count": 20,
   "metadata": {},
   "outputs": [
    {
     "data": {
      "text/plain": [
       "(29, 5)"
      ]
     },
     "execution_count": 20,
     "metadata": {},
     "output_type": "execute_result"
    }
   ],
   "source": [
    "df_medals = pd.DataFrame(rows)\n",
    "df_medals.shape"
   ]
  },
  {
   "cell_type": "code",
   "execution_count": 21,
   "metadata": {},
   "outputs": [],
   "source": [
    "merged = df.merge(df_medals, left_on='endpoint_cleaned', right_on='endpoint')"
   ]
  },
  {
   "cell_type": "code",
   "execution_count": 22,
   "metadata": {},
   "outputs": [
    {
     "data": {
      "text/plain": [
       "(29, 15)"
      ]
     },
     "execution_count": 22,
     "metadata": {},
     "output_type": "execute_result"
    }
   ],
   "source": [
    "merged.shape"
   ]
  },
  {
   "cell_type": "code",
   "execution_count": 23,
   "metadata": {},
   "outputs": [
    {
     "data": {
      "text/html": [
       "<div>\n",
       "<style scoped>\n",
       "    .dataframe tbody tr th:only-of-type {\n",
       "        vertical-align: middle;\n",
       "    }\n",
       "\n",
       "    .dataframe tbody tr th {\n",
       "        vertical-align: top;\n",
       "    }\n",
       "\n",
       "    .dataframe thead th {\n",
       "        text-align: right;\n",
       "    }\n",
       "</style>\n",
       "<table border=\"1\" class=\"dataframe\">\n",
       "  <thead>\n",
       "    <tr style=\"text-align: right;\">\n",
       "      <th></th>\n",
       "      <th>gender</th>\n",
       "      <th>medal_count</th>\n",
       "      <th>last_name</th>\n",
       "      <th>first_name</th>\n",
       "      <th>citizenship</th>\n",
       "      <th>event</th>\n",
       "      <th>years</th>\n",
       "      <th>full_name</th>\n",
       "      <th>endpoint_x</th>\n",
       "      <th>endpoint_cleaned</th>\n",
       "      <th>endpoint_y</th>\n",
       "      <th>medals_bronze</th>\n",
       "      <th>medals_gold</th>\n",
       "      <th>medals_silver</th>\n",
       "      <th>medals_total</th>\n",
       "    </tr>\n",
       "  </thead>\n",
       "  <tbody>\n",
       "  </tbody>\n",
       "</table>\n",
       "</div>"
      ],
      "text/plain": [
       "Empty DataFrame\n",
       "Columns: [gender, medal_count, last_name, first_name, citizenship, event, years, full_name, endpoint_x, endpoint_cleaned, endpoint_y, medals_bronze, medals_gold, medals_silver, medals_total]\n",
       "Index: []"
      ]
     },
     "execution_count": 23,
     "metadata": {},
     "output_type": "execute_result"
    }
   ],
   "source": [
    "# Check to see the total medal counts match up\n",
    "merged[merged.medal_count != merged.medals_total]"
   ]
  },
  {
   "cell_type": "markdown",
   "metadata": {},
   "source": [
    "## Now, medal_count and medals_total match.\n",
    "* Remove medal_count, endpoint_x, endpoint_y columns to avoid confusion"
   ]
  },
  {
   "cell_type": "code",
   "execution_count": 24,
   "metadata": {},
   "outputs": [],
   "source": [
    "merged = merged.drop(columns=[\"medal_count\", 'endpoint_x', 'endpoint_y'])"
   ]
  },
  {
   "cell_type": "code",
   "execution_count": 25,
   "metadata": {},
   "outputs": [],
   "source": [
    "merged['gender'] = merged.gender.str.title()"
   ]
  },
  {
   "cell_type": "code",
   "execution_count": 26,
   "metadata": {},
   "outputs": [],
   "source": [
    "merged['game_type'] = 'Olympic'\n",
    "merged['season'] = 'Summer'"
   ]
  },
  {
   "cell_type": "markdown",
   "metadata": {},
   "source": [
    "## Add the other_info and alternate_name columns so that the columns match Paralympic dataframes"
   ]
  },
  {
   "cell_type": "code",
   "execution_count": 27,
   "metadata": {},
   "outputs": [],
   "source": [
    "merged['other_info'] = ''\n",
    "merged['alternate_name'] = ''"
   ]
  },
  {
   "cell_type": "code",
   "execution_count": 28,
   "metadata": {},
   "outputs": [
    {
     "data": {
      "text/html": [
       "<div>\n",
       "<style scoped>\n",
       "    .dataframe tbody tr th:only-of-type {\n",
       "        vertical-align: middle;\n",
       "    }\n",
       "\n",
       "    .dataframe tbody tr th {\n",
       "        vertical-align: top;\n",
       "    }\n",
       "\n",
       "    .dataframe thead th {\n",
       "        text-align: right;\n",
       "    }\n",
       "</style>\n",
       "<table border=\"1\" class=\"dataframe\">\n",
       "  <thead>\n",
       "    <tr style=\"text-align: right;\">\n",
       "      <th></th>\n",
       "      <th>gender</th>\n",
       "      <th>last_name</th>\n",
       "      <th>first_name</th>\n",
       "      <th>citizenship</th>\n",
       "      <th>event</th>\n",
       "      <th>years</th>\n",
       "      <th>full_name</th>\n",
       "      <th>endpoint_cleaned</th>\n",
       "      <th>medals_bronze</th>\n",
       "      <th>medals_gold</th>\n",
       "      <th>medals_silver</th>\n",
       "      <th>medals_total</th>\n",
       "      <th>game_type</th>\n",
       "      <th>season</th>\n",
       "      <th>other_info</th>\n",
       "      <th>alternate_name</th>\n",
       "    </tr>\n",
       "  </thead>\n",
       "  <tbody>\n",
       "    <tr>\n",
       "      <th>0</th>\n",
       "      <td>Men</td>\n",
       "      <td>PHELPS</td>\n",
       "      <td>Michael</td>\n",
       "      <td>USA</td>\n",
       "      <td>aquatics</td>\n",
       "      <td>2004-2016</td>\n",
       "      <td>Michael PHELPS</td>\n",
       "      <td>Michael-PHELPS</td>\n",
       "      <td>2</td>\n",
       "      <td>23</td>\n",
       "      <td>3</td>\n",
       "      <td>28</td>\n",
       "      <td>Olympic</td>\n",
       "      <td>Summer</td>\n",
       "      <td></td>\n",
       "      <td></td>\n",
       "    </tr>\n",
       "    <tr>\n",
       "      <th>1</th>\n",
       "      <td>Men</td>\n",
       "      <td>ANDRIANOV</td>\n",
       "      <td>Nikolay</td>\n",
       "      <td>URS</td>\n",
       "      <td>gymnastics</td>\n",
       "      <td>1972-1980</td>\n",
       "      <td>Nikolay ANDRIANOV</td>\n",
       "      <td>Nikolay-ANDRIANOV</td>\n",
       "      <td>3</td>\n",
       "      <td>7</td>\n",
       "      <td>5</td>\n",
       "      <td>15</td>\n",
       "      <td>Olympic</td>\n",
       "      <td>Summer</td>\n",
       "      <td></td>\n",
       "      <td></td>\n",
       "    </tr>\n",
       "    <tr>\n",
       "      <th>2</th>\n",
       "      <td>Men</td>\n",
       "      <td>SHAKHLIN</td>\n",
       "      <td>Boris</td>\n",
       "      <td>URS</td>\n",
       "      <td>gymnastics</td>\n",
       "      <td>1956-1964</td>\n",
       "      <td>Boris SHAKHLIN</td>\n",
       "      <td>Boris-SHAKHLIN</td>\n",
       "      <td>2</td>\n",
       "      <td>7</td>\n",
       "      <td>4</td>\n",
       "      <td>13</td>\n",
       "      <td>Olympic</td>\n",
       "      <td>Summer</td>\n",
       "      <td></td>\n",
       "      <td></td>\n",
       "    </tr>\n",
       "    <tr>\n",
       "      <th>3</th>\n",
       "      <td>Men</td>\n",
       "      <td>MANGIAROTTI</td>\n",
       "      <td>Edoardo</td>\n",
       "      <td>ITA</td>\n",
       "      <td>fencing</td>\n",
       "      <td>1936-1960</td>\n",
       "      <td>Edoardo MANGIAROTTI</td>\n",
       "      <td>Edoardo-MANGIAROTTI</td>\n",
       "      <td>2</td>\n",
       "      <td>6</td>\n",
       "      <td>5</td>\n",
       "      <td>13</td>\n",
       "      <td>Olympic</td>\n",
       "      <td>Summer</td>\n",
       "      <td></td>\n",
       "      <td></td>\n",
       "    </tr>\n",
       "    <tr>\n",
       "      <th>4</th>\n",
       "      <td>Men</td>\n",
       "      <td>ONO</td>\n",
       "      <td>Takashi</td>\n",
       "      <td>JPN</td>\n",
       "      <td>gymnastics</td>\n",
       "      <td>1952-1964</td>\n",
       "      <td>Takashi ONO</td>\n",
       "      <td>Takashi-ONO</td>\n",
       "      <td>4</td>\n",
       "      <td>5</td>\n",
       "      <td>4</td>\n",
       "      <td>13</td>\n",
       "      <td>Olympic</td>\n",
       "      <td>Summer</td>\n",
       "      <td></td>\n",
       "      <td></td>\n",
       "    </tr>\n",
       "    <tr>\n",
       "      <th>5</th>\n",
       "      <td>Men</td>\n",
       "      <td>KATO</td>\n",
       "      <td>Sawao</td>\n",
       "      <td>JPN</td>\n",
       "      <td>gymnastics</td>\n",
       "      <td>1968-1976</td>\n",
       "      <td>Sawao KATO</td>\n",
       "      <td>Sawao-KATO</td>\n",
       "      <td>1</td>\n",
       "      <td>8</td>\n",
       "      <td>3</td>\n",
       "      <td>12</td>\n",
       "      <td>Olympic</td>\n",
       "      <td>Summer</td>\n",
       "      <td></td>\n",
       "      <td></td>\n",
       "    </tr>\n",
       "    <tr>\n",
       "      <th>6</th>\n",
       "      <td>Men</td>\n",
       "      <td>NURMI</td>\n",
       "      <td>Paavo</td>\n",
       "      <td>FIN</td>\n",
       "      <td>athletics</td>\n",
       "      <td>1920-1928</td>\n",
       "      <td>Paavo NURMI</td>\n",
       "      <td>Paavo-NURMI</td>\n",
       "      <td>0</td>\n",
       "      <td>9</td>\n",
       "      <td>3</td>\n",
       "      <td>12</td>\n",
       "      <td>Olympic</td>\n",
       "      <td>Summer</td>\n",
       "      <td></td>\n",
       "      <td></td>\n",
       "    </tr>\n",
       "    <tr>\n",
       "      <th>7</th>\n",
       "      <td>Men</td>\n",
       "      <td>NEMOV</td>\n",
       "      <td>Alexei</td>\n",
       "      <td>RUS</td>\n",
       "      <td>gymnastics</td>\n",
       "      <td>1996-2000</td>\n",
       "      <td>Alexei NEMOV</td>\n",
       "      <td>Alexei-NEMOV</td>\n",
       "      <td>6</td>\n",
       "      <td>4</td>\n",
       "      <td>2</td>\n",
       "      <td>12</td>\n",
       "      <td>Olympic</td>\n",
       "      <td>Summer</td>\n",
       "      <td></td>\n",
       "      <td></td>\n",
       "    </tr>\n",
       "    <tr>\n",
       "      <th>8</th>\n",
       "      <td>Men</td>\n",
       "      <td>LOCHTE</td>\n",
       "      <td>Ryan</td>\n",
       "      <td>USA</td>\n",
       "      <td>aquatics</td>\n",
       "      <td>2004-2016</td>\n",
       "      <td>Ryan LOCHTE</td>\n",
       "      <td>Ryan-LOCHTE</td>\n",
       "      <td>3</td>\n",
       "      <td>6</td>\n",
       "      <td>3</td>\n",
       "      <td>12</td>\n",
       "      <td>Olympic</td>\n",
       "      <td>Summer</td>\n",
       "      <td></td>\n",
       "      <td></td>\n",
       "    </tr>\n",
       "    <tr>\n",
       "      <th>9</th>\n",
       "      <td>Men</td>\n",
       "      <td>OSBURN</td>\n",
       "      <td>Carl Townsend</td>\n",
       "      <td>USA</td>\n",
       "      <td>shooting</td>\n",
       "      <td>1912-1924</td>\n",
       "      <td>Carl Townsend OSBURN</td>\n",
       "      <td>Carl-OSBURN</td>\n",
       "      <td>2</td>\n",
       "      <td>5</td>\n",
       "      <td>4</td>\n",
       "      <td>11</td>\n",
       "      <td>Olympic</td>\n",
       "      <td>Summer</td>\n",
       "      <td></td>\n",
       "      <td></td>\n",
       "    </tr>\n",
       "    <tr>\n",
       "      <th>10</th>\n",
       "      <td>Men</td>\n",
       "      <td>CHUKARIN</td>\n",
       "      <td>Viktor</td>\n",
       "      <td>URS</td>\n",
       "      <td>gymnastics</td>\n",
       "      <td>1952-1956</td>\n",
       "      <td>Viktor CHUKARIN</td>\n",
       "      <td>Viktor-CHUKARIN</td>\n",
       "      <td>1</td>\n",
       "      <td>7</td>\n",
       "      <td>3</td>\n",
       "      <td>11</td>\n",
       "      <td>Olympic</td>\n",
       "      <td>Summer</td>\n",
       "      <td></td>\n",
       "      <td></td>\n",
       "    </tr>\n",
       "    <tr>\n",
       "      <th>11</th>\n",
       "      <td>Men</td>\n",
       "      <td>SPITZ</td>\n",
       "      <td>Mark</td>\n",
       "      <td>USA</td>\n",
       "      <td>aquatics</td>\n",
       "      <td>1968-1972</td>\n",
       "      <td>Mark SPITZ</td>\n",
       "      <td>Mark-SPITZ</td>\n",
       "      <td>1</td>\n",
       "      <td>9</td>\n",
       "      <td>1</td>\n",
       "      <td>11</td>\n",
       "      <td>Olympic</td>\n",
       "      <td>Summer</td>\n",
       "      <td></td>\n",
       "      <td></td>\n",
       "    </tr>\n",
       "    <tr>\n",
       "      <th>12</th>\n",
       "      <td>Men</td>\n",
       "      <td>BIONDI</td>\n",
       "      <td>Matthew</td>\n",
       "      <td>USA</td>\n",
       "      <td>aquatics</td>\n",
       "      <td>1984-1992</td>\n",
       "      <td>Matthew BIONDI</td>\n",
       "      <td>Matthew-BIONDI</td>\n",
       "      <td>1</td>\n",
       "      <td>8</td>\n",
       "      <td>2</td>\n",
       "      <td>11</td>\n",
       "      <td>Olympic</td>\n",
       "      <td>Summer</td>\n",
       "      <td></td>\n",
       "      <td></td>\n",
       "    </tr>\n",
       "    <tr>\n",
       "      <th>13</th>\n",
       "      <td>Men</td>\n",
       "      <td>NAKAYAMA</td>\n",
       "      <td>Akinori</td>\n",
       "      <td>JPN</td>\n",
       "      <td>gymnastics</td>\n",
       "      <td>1968-1972</td>\n",
       "      <td>Akinori NAKAYAMA</td>\n",
       "      <td>Akinori-NAKAYAMA</td>\n",
       "      <td>2</td>\n",
       "      <td>6</td>\n",
       "      <td>2</td>\n",
       "      <td>10</td>\n",
       "      <td>Olympic</td>\n",
       "      <td>Summer</td>\n",
       "      <td></td>\n",
       "      <td></td>\n",
       "    </tr>\n",
       "    <tr>\n",
       "      <th>14</th>\n",
       "      <td>Men</td>\n",
       "      <td>SCHERBO</td>\n",
       "      <td>Vitaly</td>\n",
       "      <td>BLR</td>\n",
       "      <td>gymnastics</td>\n",
       "      <td>1992-1996</td>\n",
       "      <td>Vitaly SCHERBO</td>\n",
       "      <td>Vitaly-SCHERBO</td>\n",
       "      <td>4</td>\n",
       "      <td>6</td>\n",
       "      <td>0</td>\n",
       "      <td>10</td>\n",
       "      <td>Olympic</td>\n",
       "      <td>Summer</td>\n",
       "      <td></td>\n",
       "      <td></td>\n",
       "    </tr>\n",
       "    <tr>\n",
       "      <th>15</th>\n",
       "      <td>Men</td>\n",
       "      <td>LEWIS</td>\n",
       "      <td>Carl</td>\n",
       "      <td>USA</td>\n",
       "      <td>athletics</td>\n",
       "      <td>1984-1996</td>\n",
       "      <td>Carl  LEWIS</td>\n",
       "      <td>Carl-LEWIS</td>\n",
       "      <td>0</td>\n",
       "      <td>9</td>\n",
       "      <td>1</td>\n",
       "      <td>10</td>\n",
       "      <td>Olympic</td>\n",
       "      <td>Summer</td>\n",
       "      <td></td>\n",
       "      <td></td>\n",
       "    </tr>\n",
       "    <tr>\n",
       "      <th>16</th>\n",
       "      <td>Men</td>\n",
       "      <td>GEREVICH</td>\n",
       "      <td>Aladar</td>\n",
       "      <td>HUN</td>\n",
       "      <td>fencing</td>\n",
       "      <td>1932-1960</td>\n",
       "      <td>Aladar GEREVICH</td>\n",
       "      <td>Aladar-GEREVICH</td>\n",
       "      <td>2</td>\n",
       "      <td>7</td>\n",
       "      <td>1</td>\n",
       "      <td>10</td>\n",
       "      <td>Olympic</td>\n",
       "      <td>Summer</td>\n",
       "      <td></td>\n",
       "      <td></td>\n",
       "    </tr>\n",
       "    <tr>\n",
       "      <th>17</th>\n",
       "      <td>Men</td>\n",
       "      <td>DITYATIN</td>\n",
       "      <td>Aleksandr</td>\n",
       "      <td>URS</td>\n",
       "      <td>gymnastics</td>\n",
       "      <td>1976-1980</td>\n",
       "      <td>Aleksandr DITYATIN</td>\n",
       "      <td>Aleksandr-DITYATIN</td>\n",
       "      <td>1</td>\n",
       "      <td>3</td>\n",
       "      <td>6</td>\n",
       "      <td>10</td>\n",
       "      <td>Olympic</td>\n",
       "      <td>Summer</td>\n",
       "      <td></td>\n",
       "      <td></td>\n",
       "    </tr>\n",
       "    <tr>\n",
       "      <th>18</th>\n",
       "      <td>Men</td>\n",
       "      <td>HALL</td>\n",
       "      <td>Gary Jr.</td>\n",
       "      <td>USA</td>\n",
       "      <td>aquatics</td>\n",
       "      <td>1996-2004</td>\n",
       "      <td>Gary Jr. HALL</td>\n",
       "      <td>Gary-Jr-HALL</td>\n",
       "      <td>2</td>\n",
       "      <td>5</td>\n",
       "      <td>3</td>\n",
       "      <td>10</td>\n",
       "      <td>Olympic</td>\n",
       "      <td>Summer</td>\n",
       "      <td></td>\n",
       "      <td></td>\n",
       "    </tr>\n",
       "    <tr>\n",
       "      <th>19</th>\n",
       "      <td>Women</td>\n",
       "      <td>LATYNINA</td>\n",
       "      <td>Larisa</td>\n",
       "      <td>URS</td>\n",
       "      <td>gymnastics</td>\n",
       "      <td>1956-1964</td>\n",
       "      <td>Larisa  LATYNINA</td>\n",
       "      <td>Larisa-LATYNINA</td>\n",
       "      <td>4</td>\n",
       "      <td>9</td>\n",
       "      <td>5</td>\n",
       "      <td>18</td>\n",
       "      <td>Olympic</td>\n",
       "      <td>Summer</td>\n",
       "      <td></td>\n",
       "      <td></td>\n",
       "    </tr>\n",
       "    <tr>\n",
       "      <th>20</th>\n",
       "      <td>Women</td>\n",
       "      <td>FISCHER-SCHMIDT</td>\n",
       "      <td>Birgit</td>\n",
       "      <td>GER</td>\n",
       "      <td>Canoe</td>\n",
       "      <td>1980-2004</td>\n",
       "      <td>Birgit FISCHER-SCHMIDT</td>\n",
       "      <td>Birgit-FISCHER</td>\n",
       "      <td>0</td>\n",
       "      <td>8</td>\n",
       "      <td>4</td>\n",
       "      <td>12</td>\n",
       "      <td>Olympic</td>\n",
       "      <td>Summer</td>\n",
       "      <td></td>\n",
       "      <td></td>\n",
       "    </tr>\n",
       "    <tr>\n",
       "      <th>21</th>\n",
       "      <td>Women</td>\n",
       "      <td>THOMPSON</td>\n",
       "      <td>Jenny</td>\n",
       "      <td>USA</td>\n",
       "      <td>aquatics</td>\n",
       "      <td>1992-1904</td>\n",
       "      <td>Jenny THOMPSON</td>\n",
       "      <td>Jenny-THOMPSON</td>\n",
       "      <td>1</td>\n",
       "      <td>8</td>\n",
       "      <td>3</td>\n",
       "      <td>12</td>\n",
       "      <td>Olympic</td>\n",
       "      <td>Summer</td>\n",
       "      <td></td>\n",
       "      <td></td>\n",
       "    </tr>\n",
       "    <tr>\n",
       "      <th>22</th>\n",
       "      <td>Women</td>\n",
       "      <td>TORRES</td>\n",
       "      <td>Dara</td>\n",
       "      <td>USA</td>\n",
       "      <td>aquatics</td>\n",
       "      <td>1984-2008</td>\n",
       "      <td>Dara TORRES</td>\n",
       "      <td>Dara-TORRES</td>\n",
       "      <td>4</td>\n",
       "      <td>4</td>\n",
       "      <td>4</td>\n",
       "      <td>12</td>\n",
       "      <td>Olympic</td>\n",
       "      <td>Summer</td>\n",
       "      <td></td>\n",
       "      <td></td>\n",
       "    </tr>\n",
       "    <tr>\n",
       "      <th>23</th>\n",
       "      <td>Women</td>\n",
       "      <td>COUGHLIN</td>\n",
       "      <td>Natalie</td>\n",
       "      <td>USA</td>\n",
       "      <td>aquatics</td>\n",
       "      <td>2004-2012</td>\n",
       "      <td>Natalie COUGHLIN</td>\n",
       "      <td>Natalie-COUGHLIN</td>\n",
       "      <td>5</td>\n",
       "      <td>3</td>\n",
       "      <td>4</td>\n",
       "      <td>12</td>\n",
       "      <td>Olympic</td>\n",
       "      <td>Summer</td>\n",
       "      <td></td>\n",
       "      <td></td>\n",
       "    </tr>\n",
       "    <tr>\n",
       "      <th>24</th>\n",
       "      <td>Women</td>\n",
       "      <td>CASLAVSKA</td>\n",
       "      <td>Vera</td>\n",
       "      <td>TCH</td>\n",
       "      <td>gymnastics</td>\n",
       "      <td>1960-1964</td>\n",
       "      <td>Vera CASLAVSKA</td>\n",
       "      <td>Vera-CASLAVSKA</td>\n",
       "      <td>0</td>\n",
       "      <td>7</td>\n",
       "      <td>4</td>\n",
       "      <td>11</td>\n",
       "      <td>Olympic</td>\n",
       "      <td>Summer</td>\n",
       "      <td></td>\n",
       "      <td></td>\n",
       "    </tr>\n",
       "    <tr>\n",
       "      <th>25</th>\n",
       "      <td>Women</td>\n",
       "      <td>VAN ALMSICK</td>\n",
       "      <td>Franziska</td>\n",
       "      <td>GER</td>\n",
       "      <td>aquatics</td>\n",
       "      <td>1992-2004</td>\n",
       "      <td>Franziska VAN ALMSICK</td>\n",
       "      <td>Franziska-VAN-ALMSICK</td>\n",
       "      <td>6</td>\n",
       "      <td>0</td>\n",
       "      <td>4</td>\n",
       "      <td>10</td>\n",
       "      <td>Olympic</td>\n",
       "      <td>Summer</td>\n",
       "      <td></td>\n",
       "      <td></td>\n",
       "    </tr>\n",
       "    <tr>\n",
       "      <th>26</th>\n",
       "      <td>Women</td>\n",
       "      <td>KELETI</td>\n",
       "      <td>Agnes</td>\n",
       "      <td>HUN</td>\n",
       "      <td>gymnastics</td>\n",
       "      <td>1952-1956</td>\n",
       "      <td>Agnes  KELETI</td>\n",
       "      <td>Agnes-KELETI</td>\n",
       "      <td>2</td>\n",
       "      <td>5</td>\n",
       "      <td>3</td>\n",
       "      <td>10</td>\n",
       "      <td>Olympic</td>\n",
       "      <td>Summer</td>\n",
       "      <td></td>\n",
       "      <td></td>\n",
       "    </tr>\n",
       "    <tr>\n",
       "      <th>27</th>\n",
       "      <td>Women</td>\n",
       "      <td>ASTAKHOVA</td>\n",
       "      <td>Polina</td>\n",
       "      <td>URS</td>\n",
       "      <td>gymnastics</td>\n",
       "      <td>1956-1964</td>\n",
       "      <td>Polina  ASTAKHOVA</td>\n",
       "      <td>Polina-ASTAKHOVA</td>\n",
       "      <td>3</td>\n",
       "      <td>5</td>\n",
       "      <td>2</td>\n",
       "      <td>10</td>\n",
       "      <td>Olympic</td>\n",
       "      <td>Summer</td>\n",
       "      <td></td>\n",
       "      <td></td>\n",
       "    </tr>\n",
       "    <tr>\n",
       "      <th>28</th>\n",
       "      <td>Women</td>\n",
       "      <td>WERTH</td>\n",
       "      <td>Isabell</td>\n",
       "      <td>GER</td>\n",
       "      <td>equestrian</td>\n",
       "      <td>2000-2016</td>\n",
       "      <td>Isabell WERTH</td>\n",
       "      <td>Isabell-WERTH</td>\n",
       "      <td>0</td>\n",
       "      <td>6</td>\n",
       "      <td>4</td>\n",
       "      <td>10</td>\n",
       "      <td>Olympic</td>\n",
       "      <td>Summer</td>\n",
       "      <td></td>\n",
       "      <td></td>\n",
       "    </tr>\n",
       "  </tbody>\n",
       "</table>\n",
       "</div>"
      ],
      "text/plain": [
       "   gender         last_name      first_name citizenship        event  \\\n",
       "0     Men            PHELPS         Michael         USA     aquatics   \n",
       "1     Men         ANDRIANOV         Nikolay         URS   gymnastics   \n",
       "2     Men          SHAKHLIN           Boris         URS   gymnastics   \n",
       "3     Men       MANGIAROTTI         Edoardo         ITA      fencing   \n",
       "4     Men               ONO         Takashi         JPN   gymnastics   \n",
       "5     Men              KATO           Sawao         JPN   gymnastics   \n",
       "6     Men             NURMI           Paavo         FIN    athletics   \n",
       "7     Men             NEMOV          Alexei         RUS   gymnastics   \n",
       "8     Men            LOCHTE            Ryan         USA     aquatics   \n",
       "9     Men            OSBURN   Carl Townsend         USA     shooting   \n",
       "10    Men          CHUKARIN          Viktor         URS   gymnastics   \n",
       "11    Men             SPITZ            Mark         USA     aquatics   \n",
       "12    Men            BIONDI         Matthew         USA     aquatics   \n",
       "13    Men          NAKAYAMA         Akinori         JPN   gymnastics   \n",
       "14    Men           SCHERBO          Vitaly         BLR   gymnastics   \n",
       "15    Men             LEWIS           Carl          USA    athletics   \n",
       "16    Men          GEREVICH          Aladar         HUN      fencing   \n",
       "17    Men          DITYATIN       Aleksandr         URS   gymnastics   \n",
       "18    Men              HALL        Gary Jr.         USA     aquatics   \n",
       "19  Women          LATYNINA         Larisa          URS   gymnastics   \n",
       "20  Women   FISCHER-SCHMIDT          Birgit         GER        Canoe   \n",
       "21  Women          THOMPSON           Jenny         USA     aquatics   \n",
       "22  Women            TORRES            Dara         USA     aquatics   \n",
       "23  Women          COUGHLIN         Natalie         USA     aquatics   \n",
       "24  Women         CASLAVSKA            Vera         TCH   gymnastics   \n",
       "25  Women       VAN ALMSICK       Franziska         GER     aquatics   \n",
       "26  Women            KELETI          Agnes          HUN   gymnastics   \n",
       "27  Women         ASTAKHOVA         Polina          URS   gymnastics   \n",
       "28  Women             WERTH         Isabell         GER   equestrian   \n",
       "\n",
       "         years               full_name       endpoint_cleaned  medals_bronze  \\\n",
       "0    2004-2016          Michael PHELPS         Michael-PHELPS              2   \n",
       "1    1972-1980       Nikolay ANDRIANOV      Nikolay-ANDRIANOV              3   \n",
       "2    1956-1964          Boris SHAKHLIN         Boris-SHAKHLIN              2   \n",
       "3    1936-1960     Edoardo MANGIAROTTI    Edoardo-MANGIAROTTI              2   \n",
       "4    1952-1964             Takashi ONO            Takashi-ONO              4   \n",
       "5    1968-1976              Sawao KATO             Sawao-KATO              1   \n",
       "6    1920-1928             Paavo NURMI            Paavo-NURMI              0   \n",
       "7    1996-2000            Alexei NEMOV           Alexei-NEMOV              6   \n",
       "8    2004-2016             Ryan LOCHTE            Ryan-LOCHTE              3   \n",
       "9    1912-1924    Carl Townsend OSBURN            Carl-OSBURN              2   \n",
       "10   1952-1956         Viktor CHUKARIN        Viktor-CHUKARIN              1   \n",
       "11   1968-1972              Mark SPITZ             Mark-SPITZ              1   \n",
       "12   1984-1992          Matthew BIONDI         Matthew-BIONDI              1   \n",
       "13   1968-1972        Akinori NAKAYAMA       Akinori-NAKAYAMA              2   \n",
       "14   1992-1996          Vitaly SCHERBO         Vitaly-SCHERBO              4   \n",
       "15   1984-1996             Carl  LEWIS             Carl-LEWIS              0   \n",
       "16   1932-1960         Aladar GEREVICH        Aladar-GEREVICH              2   \n",
       "17   1976-1980      Aleksandr DITYATIN     Aleksandr-DITYATIN              1   \n",
       "18   1996-2004           Gary Jr. HALL           Gary-Jr-HALL              2   \n",
       "19   1956-1964        Larisa  LATYNINA        Larisa-LATYNINA              4   \n",
       "20   1980-2004  Birgit FISCHER-SCHMIDT         Birgit-FISCHER              0   \n",
       "21   1992-1904          Jenny THOMPSON         Jenny-THOMPSON              1   \n",
       "22   1984-2008             Dara TORRES            Dara-TORRES              4   \n",
       "23   2004-2012        Natalie COUGHLIN       Natalie-COUGHLIN              5   \n",
       "24   1960-1964          Vera CASLAVSKA         Vera-CASLAVSKA              0   \n",
       "25   1992-2004   Franziska VAN ALMSICK  Franziska-VAN-ALMSICK              6   \n",
       "26   1952-1956           Agnes  KELETI           Agnes-KELETI              2   \n",
       "27   1956-1964       Polina  ASTAKHOVA       Polina-ASTAKHOVA              3   \n",
       "28   2000-2016           Isabell WERTH          Isabell-WERTH              0   \n",
       "\n",
       "    medals_gold  medals_silver  medals_total game_type  season other_info  \\\n",
       "0            23              3            28   Olympic  Summer              \n",
       "1             7              5            15   Olympic  Summer              \n",
       "2             7              4            13   Olympic  Summer              \n",
       "3             6              5            13   Olympic  Summer              \n",
       "4             5              4            13   Olympic  Summer              \n",
       "5             8              3            12   Olympic  Summer              \n",
       "6             9              3            12   Olympic  Summer              \n",
       "7             4              2            12   Olympic  Summer              \n",
       "8             6              3            12   Olympic  Summer              \n",
       "9             5              4            11   Olympic  Summer              \n",
       "10            7              3            11   Olympic  Summer              \n",
       "11            9              1            11   Olympic  Summer              \n",
       "12            8              2            11   Olympic  Summer              \n",
       "13            6              2            10   Olympic  Summer              \n",
       "14            6              0            10   Olympic  Summer              \n",
       "15            9              1            10   Olympic  Summer              \n",
       "16            7              1            10   Olympic  Summer              \n",
       "17            3              6            10   Olympic  Summer              \n",
       "18            5              3            10   Olympic  Summer              \n",
       "19            9              5            18   Olympic  Summer              \n",
       "20            8              4            12   Olympic  Summer              \n",
       "21            8              3            12   Olympic  Summer              \n",
       "22            4              4            12   Olympic  Summer              \n",
       "23            3              4            12   Olympic  Summer              \n",
       "24            7              4            11   Olympic  Summer              \n",
       "25            0              4            10   Olympic  Summer              \n",
       "26            5              3            10   Olympic  Summer              \n",
       "27            5              2            10   Olympic  Summer              \n",
       "28            6              4            10   Olympic  Summer              \n",
       "\n",
       "   alternate_name  \n",
       "0                  \n",
       "1                  \n",
       "2                  \n",
       "3                  \n",
       "4                  \n",
       "5                  \n",
       "6                  \n",
       "7                  \n",
       "8                  \n",
       "9                  \n",
       "10                 \n",
       "11                 \n",
       "12                 \n",
       "13                 \n",
       "14                 \n",
       "15                 \n",
       "16                 \n",
       "17                 \n",
       "18                 \n",
       "19                 \n",
       "20                 \n",
       "21                 \n",
       "22                 \n",
       "23                 \n",
       "24                 \n",
       "25                 \n",
       "26                 \n",
       "27                 \n",
       "28                 "
      ]
     },
     "execution_count": 28,
     "metadata": {},
     "output_type": "execute_result"
    }
   ],
   "source": [
    "merged"
   ]
  },
  {
   "cell_type": "markdown",
   "metadata": {},
   "source": [
    "### Check for NaN values"
   ]
  },
  {
   "cell_type": "code",
   "execution_count": 29,
   "metadata": {},
   "outputs": [
    {
     "data": {
      "text/plain": [
       "gender              0\n",
       "last_name           0\n",
       "first_name          0\n",
       "citizenship         0\n",
       "event               0\n",
       "years               0\n",
       "full_name           0\n",
       "endpoint_cleaned    0\n",
       "medals_bronze       0\n",
       "medals_gold         0\n",
       "medals_silver       0\n",
       "medals_total        0\n",
       "game_type           0\n",
       "season              0\n",
       "other_info          0\n",
       "alternate_name      0\n",
       "dtype: int64"
      ]
     },
     "execution_count": 29,
     "metadata": {},
     "output_type": "execute_result"
    }
   ],
   "source": [
    "merged.isna().sum()"
   ]
  },
  {
   "cell_type": "code",
   "execution_count": 30,
   "metadata": {},
   "outputs": [],
   "source": [
    "merged.to_csv('oly_summer_complete.csv', index=False)"
   ]
  }
 ],
 "metadata": {
  "kernelspec": {
   "display_name": "Python 3",
   "language": "python",
   "name": "python3"
  },
  "language_info": {
   "codemirror_mode": {
    "name": "ipython",
    "version": 3
   },
   "file_extension": ".py",
   "mimetype": "text/x-python",
   "name": "python",
   "nbconvert_exporter": "python",
   "pygments_lexer": "ipython3",
   "version": "3.6.5"
  }
 },
 "nbformat": 4,
 "nbformat_minor": 2
}
