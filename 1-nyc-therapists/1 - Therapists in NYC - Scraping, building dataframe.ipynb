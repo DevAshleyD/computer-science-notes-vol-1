{
 "cells": [
  {
   "cell_type": "code",
   "execution_count": 1,
   "metadata": {},
   "outputs": [],
   "source": [
    "import requests\n",
    "import pandas as pd\n",
    "import re\n",
    "import numpy as np\n",
    "import os\n",
    "\n",
    "import math\n",
    "import statistics\n",
    "\n",
    "from bs4 import BeautifulSoup\n",
    "\n",
    "import pandas as pd\n",
    "import matplotlib\n",
    "import matplotlib.pyplot as plt\n",
    "import seaborn as sns\n",
    "matplotlib.rcParams['pdf.fonttype'] = 42\n",
    "\n",
    "%matplotlib inline\n",
    "\n",
    "headers = {'User-Agent': 'Mozilla/5.0 (Windows NT 6.1; Win64; x64; rv:47.0) Gecko/20100101 Firefox/47.0'}"
   ]
  },
  {
   "cell_type": "markdown",
   "metadata": {},
   "source": [
    "# Scrape information for one therapist"
   ]
  },
  {
   "cell_type": "code",
   "execution_count": 2,
   "metadata": {},
   "outputs": [],
   "source": [
    "page= 1 \n",
    "url = f'https://www.psychologytoday.com/us/therapists/ny/new-york?sid=5d1f98636faae&rec_next={page}'\n",
    "response = requests.get(url, headers=headers)\n",
    "doc = BeautifulSoup(response.text)\n",
    "\n",
    "rows = doc.find_all(class_='result-row')\n",
    "name = rows[0].find(itemprop='name').text.strip()\n",
    "url = rows[0].find(itemprop='url')['href']\n",
    "description = rows[0].find(itemprop='description').text.strip()\n",
    "title = rows[0].find(class_='result-suffix').text.replace('\\n', '')\n",
    "phone = rows[0].find(class_='result-phone').text.strip()\n",
    "zipcode = rows[0].find(itemprop='postalCode').text.strip()"
   ]
  },
  {
   "cell_type": "markdown",
   "metadata": {},
   "source": [
    "# Scrape the first page of results for therapists in NYC"
   ]
  },
  {
   "cell_type": "code",
   "execution_count": 3,
   "metadata": {},
   "outputs": [
    {
     "data": {
      "text/plain": [
       "[{'name': 'Manhattan Mental Health Counseling',\n",
       "  'url': 'https://www.psychologytoday.com/us/therapists/ny/new-york/241735?sid=5d1f98636faae&ref=1&rec_next=1&tr=ResultsName',\n",
       "  'description': '\"Welcome to Manhattan Mental Health Counseling. Here we value your decision to courageously seek help towards healing and thriving. We believe that if you take the step towards treatment, then as healers, we have the responsibility to make sure you are well cared for.\"',\n",
       "  'title': 'Counselor,LMHC',\n",
       "  'phone': '(212) 960-8626',\n",
       "  'zipcode': '10018'},\n",
       " {'name': 'Ellen S. Daniels',\n",
       "  'url': 'https://www.psychologytoday.com/us/therapists/ny/new-york/80412?sid=5d1f98636faae&ref=2&rec_next=1&tr=ResultsName',\n",
       "  'description': '\"Why do people seek therapy? Usually it\\'s because they\\'re feeling dissatisfied, anxious, or depressed--and it\\'s becoming difficult to cope.  Do you feel stuck in a relationship or work situation?  Struggling with life transitions: marriage, divorce, parenting, career change, becoming an in-law, serious illness, aging parents?   If you\\'d like to change your life, I can help you understand what\\'s getting in the way.  If you are an Orthodox Jew, you may prefer a non-Orthodox therapist.  Working together in a safe, nonjudgmental space, we can help you find the solutions you\\'re seeking.\"',\n",
       "  'title': 'Clinical Social Work/Therapist,LCSW-R',\n",
       "  'phone': '(646) 797-5689',\n",
       "  'zipcode': '10001'},\n",
       " {'name': 'American Institute for Cognitive Therapy',\n",
       "  'url': 'https://www.psychologytoday.com/us/therapists/ny/new-york/332071?sid=5d1f98636faae&ref=3&rec_next=1&tr=ResultsName',\n",
       "  'description': '\"The American Institute for Cognitive Therapy is an internationally recognized group of clinical psychologists providing the highest quality cognitive-behavioral treatment for depression, anxiety, phobias, eating disorders, personality disorders, child and adolescent problems and family and marital problems. The Director, Dr. Robert L. Leahy (B.A., M.S., Ph.D. Yale University), has authored and edited 26 books is the Past President of -the Association for Behavioral and Cognitive Therapy, International Association for Cognitive Psychotherapy, Academy of Cognitive Therapy and is Clinical Professor of Psychology in Psychiatry at Weill Cornell Medical School and recipient of the Aaron T. Beck Award.\"',\n",
       "  'title': 'Psychologist,PhD',\n",
       "  'phone': '(646) 762-1256',\n",
       "  'zipcode': '10022'},\n",
       " {'name': 'Katy Goodman Psychotherapy - Relationship Expert',\n",
       "  'url': 'https://www.psychologytoday.com/us/therapists/ny/new-york/73277?sid=5d1f98636faae&ref=4&rec_next=1&tr=ResultsName',\n",
       "  'description': '\"I work with Young Adults, Career Focused Individuals & Adults struggling with relationships, love, job difficulties, decision making & family issues.  If you\\'re ruminating about a person, relationship, career stress or events from your past, I can help. Clients who work with me learn how to calm anxiety, increase confidence, quiet obsessional thinking, trust their decision making & master emotionally difficult situations. All of which result in greater peace of mind. If you\\'re stuck or unhappy in your life please give me a call. I provide a welcoming, safe environment, where your thoughts & feelings can discussed & addressed openly and effectively.\"',\n",
       "  'title': 'LCSW',\n",
       "  'phone': '(917) 791-1107',\n",
       "  'zipcode': '10001'},\n",
       " {'name': 'Amy Gottheimer',\n",
       "  'url': 'https://www.psychologytoday.com/us/therapists/ny/new-york/444502?sid=5d1f98636faae&ref=5&rec_next=1&tr=ResultsName',\n",
       "  'description': '\"We’re in this together!  As a clinical social worker with over ten years experience working with trauma, depression, anxiety, life transitions, creating positive thinking and communication patterns, and developing new skills, I sincerely appreciate the opportunity to be a part of your journey! \"',\n",
       "  'title': 'Clinical Social Work/Therapist,LCSW',\n",
       "  'phone': '(516) 701-2206',\n",
       "  'zipcode': '10001'},\n",
       " {'name': 'Linda Larkin',\n",
       "  'url': 'https://www.psychologytoday.com/us/therapists/ny/new-york/41024?sid=5d1f98636faae&ref=6&rec_next=1&tr=ResultsName',\n",
       "  'description': '\"Are you unhappy or dissatisfied in your relationships or career?  Are you feeling anxious or depressed?  With over 25 years of experience providing psychotherapy and couple\\'s therapy,  I will collaborate with you to create a safe space within which we can speak openly.  We can work together to be mindful and accepting of your true feelings and to help you accomplish your goals.       If problematic behaviors, such as procrastination, anger, or overeating (for example) contribute to your difficulties, I may suggest behavioral strategies to help you make the changes you seek. \"',\n",
       "  'title': 'Psychologist,PhD',\n",
       "  'phone': '(646) 351-1736',\n",
       "  'zipcode': '10168'},\n",
       " {'name': 'Yuliya Bulba',\n",
       "  'url': 'https://www.psychologytoday.com/us/therapists/ny/new-york/225803?sid=5d1f98636faae&ref=7&rec_next=1&tr=ResultsName',\n",
       "  'description': '\"Feeling down? Anxious? Stuck? Starting something new can be difficult.  Beginning therapy is often no different.  It can be hard to take the first step and can include a lot of conflicting feelings.  I can provide a supportive, open-minded and non-judgmental environment to help you begin the journey to a better life.  Whether your reason for seeking therapy is depression, anxiety, substance abuse, interpersonal or relationship issues, I can help you begin your journey to feeling better.\"',\n",
       "  'title': 'Psychologist,PsyD',\n",
       "  'phone': '(844) 257-5734',\n",
       "  'zipcode': '10001'},\n",
       " {'name': 'Diane M Barnes',\n",
       "  'url': 'https://www.psychologytoday.com/us/therapists/ny/new-york/21693?sid=5d1f98636faae&ref=8&rec_next=1&tr=ResultsName',\n",
       "  'description': '\"I believe that therapy is an art. My patients come to me to paint their life pictures. I am here to guide them in this journey. I work with them to gain insight into themselves and their problems and acquire practical tools to better cope with them. I am a firm believer in the \"real relationship\" which means that I am NOT a blank screen and the treatment is very much interactive and collaborative.\"',\n",
       "  'title': 'Clinical Social Work/Therapist,LCSW,MBA',\n",
       "  'phone': '(212) 587-7618',\n",
       "  'zipcode': '10016'},\n",
       " {'name': 'Lauren Alexandra Eavarone',\n",
       "  'url': 'https://www.psychologytoday.com/us/therapists/ny/new-york/313522?sid=5d1f98636faae&ref=9&rec_next=1&tr=ResultsName',\n",
       "  'description': '\"Whether you are seeking to improve your relationships, increase your overall well-being, or are encountering significant life challenges, I am here to assist you in achieving your personal goals. It is my belief that therapy is an empowering resource that can help you re-author your life. It would be my privilege to work with you in a supportive alliance guided by open respect and acceptance. I am dedicated to providing you with a safe and supportive environment where no topics are taboo and all of your thoughts and concerns may be explored.\"',\n",
       "  'title': 'Marriage & Family Therapist,LMFT,M.S.',\n",
       "  'phone': '(631) 483-2034',\n",
       "  'zipcode': '10016'},\n",
       " {'name': 'Robert Buck',\n",
       "  'url': 'https://www.psychologytoday.com/us/therapists/ny/new-york/121970?sid=5d1f98636faae&ref=10&rec_next=1&tr=ResultsName',\n",
       "  'description': '\"Therapy is a collaborative, creative, and re-creative journey in which we find and re-fine ourselves.  It has been my pleasure and my passion to help people restore a sense of passion for living.  In the safety of the therapeutic relationship we can come to be truly self-accepting and capable of rewarding relationships.\"',\n",
       "  'title': 'Clinical Social Work/Therapist,LCSW',\n",
       "  'phone': '(646) 351-1988',\n",
       "  'zipcode': '10016'},\n",
       " {'name': 'Robert Murphy',\n",
       "  'url': 'https://www.psychologytoday.com/us/therapists/ny/new-york/111715?sid=5d1f98636faae&ref=11&rec_next=1&tr=ResultsName',\n",
       "  'description': '\"People come to see me for lots of different reasons. Some are struggling with anxiety, depression, or a crippling addiction. Some are having difficulty in their relationships with others. Some are going through a difficult time - a mid life crisis, the loss of a job or a loved one, or a frightening medical diagnosis. Most are tired of repeating unconscious patterns that were learned long ago that continue to be played out in spite of their best efforts. All are seeking a happier, healthier life and a way to achieve that. Psychotherapy is the best place to invest in oneself and work toward these goals.\"',\n",
       "  'title': 'Marriage & Family Therapist,MA,LPC,LMFT',\n",
       "  'phone': '(646) 553-3150',\n",
       "  'zipcode': '10011'},\n",
       " {'name': 'Beth D. Weinstein',\n",
       "  'url': 'https://www.psychologytoday.com/us/therapists/ny/new-york/296483?sid=5d1f98636faae&ref=12&rec_next=1&tr=ResultsName',\n",
       "  'description': '\"My approach to therapy is collaborative, goal-oriented, supportive, and compassionate integrating counseling psychotherapy, trauma-informed treatment, mindfulness practices and mind-body techniques as well as as other evidence-based goal-oriented approaches. Clients report that this therapeutic process has led them to a greater sense of satisfaction, balance, and meaning in their lives. My previous executive experience in the international corporate sector grants me special insight into career/job and management issues. My extensive international work enables me to work with people from diverse backgrounds.\"',\n",
       "  'title': 'Counselor,M.A.,,LMHC',\n",
       "  'phone': '(646) 798-8360',\n",
       "  'zipcode': '10011'},\n",
       " {'name': 'Glenn Berger',\n",
       "  'url': 'https://www.psychologytoday.com/us/therapists/ny/new-york/228609?sid=5d1f98636faae&ref=13&rec_next=1&tr=ResultsName',\n",
       "  'description': '\"Choosing a psychotherapist, relationship counselor, or coach is an important decision. You want someone you can relate to, someone you can trust, who is good at what they do, and will be able to help you. How do you know if you\\'ve picked the right person? I believe good therapy, counseling, or coaching begins with the first contact. During our first conversation, I\\'m interested in who you are, what you need, and how I can help. Whatever your struggle, feel free to reach out. I\\'d be happy to respond. I\\'d like to get to know you.\"',\n",
       "  'title': 'Clinical Social Work/Therapist,PhD,LCSW',\n",
       "  'phone': '(917) 426-0178',\n",
       "  'zipcode': '10016'},\n",
       " {'name': 'Ariella Azaraf',\n",
       "  'url': 'https://www.psychologytoday.com/us/therapists/ny/new-york/315415?sid=5d1f98636faae&ref=14&rec_next=1&tr=ResultsName',\n",
       "  'description': '\"Life can sometimes feel overwhelming and draining.  I provide a non-judgmental, collaborative approach to help you understand your behaviors and the reason you are seeking treatment at this time. Finding ways to navigate difficult stages of life and complicated relationships can be very challenging. My goal is to help you identify and work through any barriers keeping you from living a happy and meaningful life.\"',\n",
       "  'title': 'Clinical Social Work/Therapist,LCSW',\n",
       "  'phone': '(929) 227-6169',\n",
       "  'zipcode': '10001'},\n",
       " {'name': 'Nicole Tierney',\n",
       "  'url': 'https://www.psychologytoday.com/us/therapists/ny/new-york/131613?sid=5d1f98636faae&ref=15&rec_next=1&tr=ResultsName',\n",
       "  'description': '\"Psychotherapy is an investment in a life lived consciously and self-reflectively.  With respect for the complexity of psychological problems and their uniquely subjective meaning and function for each person, the \"work\" of psychotherapy fosters a curiosity about ourselves, our histories, our relational patterns, our ways of thinking and behaving, and of managing stress and loss.  Questions like - why do I do the things I do? Choose to be involved with this type of person?  React to stress or loss this way?  Why am I stuck? Sad? Empty feeling? - help us develop insight and the capacity for informed change.\"',\n",
       "  'title': 'Clinical Social Work/Therapist,LLB,LCSW',\n",
       "  'phone': '(646) 606-2543',\n",
       "  'zipcode': '10010'},\n",
       " {'name': 'Ellen Levine',\n",
       "  'url': 'https://www.psychologytoday.com/us/therapists/ny/new-york/35769?sid=5d1f98636faae&ref=16&rec_next=1&tr=ResultsName',\n",
       "  'description': '\"Why do people seek help? I think people in great pain have somehow lost their ability to navigate in the world.  Depression, anxiety, and fear renders a person helpless and one cannot summon their old ways of being. Recent trauma or unresolved issues can suddenly alienate a person from themselves.  Often people are wrestling with unexamined fears or emotions that have long been dissociated. In the safety of the therapeutic space, the client can confront that which is most difficult with the aim of once again feeling whole, thus able to pursue, with energy and pleasure, their work and relationships.\"',\n",
       "  'title': 'Clinical Social Work/Therapist,LCSW-R',\n",
       "  'phone': '(646) 351-1577',\n",
       "  'zipcode': '10024'},\n",
       " {'name': 'Jonathon Moon',\n",
       "  'url': 'https://www.psychologytoday.com/us/therapists/ny/new-york/394129?sid=5d1f98636faae&ref=17&rec_next=1&tr=ResultsName',\n",
       "  'description': '\"Everyone needs a life coach. Whether you need career-directional support, support with looking at your finances, or nurturing your closest relationships- life coaching helps you see past your past patterns or behaviors and creates clarity and joy and moves your energy forward to what matters most to you, right now. I love supporting clients to attain the highest ideas for their lives and go past where they have ever been with career, money and love.\"',\n",
       "  'title': 'PCC',\n",
       "  'phone': '(917) 994-9238',\n",
       "  'zipcode': '10031'},\n",
       " {'name': 'Danielle Sapper',\n",
       "  'url': 'https://www.psychologytoday.com/us/therapists/ny/new-york/353794?sid=5d1f98636faae&ref=18&rec_next=1&tr=ResultsName',\n",
       "  'description': '\"Entering therapy can be a daunting and challenging idea for many people.  I understand the importance of tailoring treatment to the unique individual and incorporating your goals into our work together.  I pride myself on creating a non-judgmental and compassionate environment where you can feel vulnerable and begin to explore the areas of your life that may be keeping you from reaching your full potential.  Whether you feel stuck, hopeless, anxious or unfulfilled, we can work on developing insight using psychodynamic, supportive and cognitive behavioral approaches to create positive changes and achieve the growth you desire.\"',\n",
       "  'title': 'Clinical Social Work/Therapist,LCSW',\n",
       "  'phone': '(646) 863-5448',\n",
       "  'zipcode': '10011'},\n",
       " {'name': 'Bonnie Zindel',\n",
       "  'url': 'https://www.psychologytoday.com/us/therapists/ny/new-york/109494?sid=5d1f98636faae&ref=19&rec_next=1&tr=ResultsName',\n",
       "  'description': '\"I am a caring psychoanalyst with 20+ years of experience. Starting therapy may feel overwhelming but the experience can transform your life. Are there things you\\'re doing to sabotage yourself? Do you get caught in the same patterns? How can you get the most out of your relationships?  I believe therapy is a dynamic, two person process which takes place in an environment of safety and honesty.  With insight, humor and warmth, I create a safe space for you to explore your feelings, relationships, ambitions, memories, and dreams. With awareness, acceptance and compassion, I believe that change is possible.\"',\n",
       "  'title': 'Clinical Social Work/Therapist,LCSW',\n",
       "  'phone': '(212) 265-2462',\n",
       "  'zipcode': '10019'},\n",
       " {'name': 'Donna Steinberg Stern',\n",
       "  'url': 'https://www.psychologytoday.com/us/therapists/ny/new-york/74313?sid=5d1f98636faae&ref=20&rec_next=1&tr=ResultsName',\n",
       "  'description': '\"Are you struggling to get pregnant? Have you miscarried one or more times? Do you suffer from postpartum blues? Does the idea of surrogacy or adoption feel too daunting to do on your own? Are major life changes too difficult to contemplate? And do they make you feel anxious? While psychotherapy doesn\\'t have all the answers, working together on some of these issues can help you to feel empowered.\"',\n",
       "  'title': 'Psychologist,PhD',\n",
       "  'phone': '(516) 701-3217',\n",
       "  'zipcode': '10128'}]"
      ]
     },
     "execution_count": 3,
     "metadata": {},
     "output_type": "execute_result"
    }
   ],
   "source": [
    "page= 1 \n",
    "url = f'https://www.psychologytoday.com/us/therapists/ny/new-york?sid=5d1f98636faae&rec_next={page}'\n",
    "response = requests.get(url, headers=headers)\n",
    "doc = BeautifulSoup(response.text)\n",
    "\n",
    "therapists = doc.find_all(class_='result-row')\n",
    "rows = []\n",
    "\n",
    "for therapist in therapists:\n",
    "    row = {}\n",
    "    row['name'] = therapist.find(itemprop='name').text.strip()\n",
    "    row['url'] = therapist.find(itemprop='url')['href']\n",
    "    row['description'] = therapist.find(itemprop='description').text.strip()\n",
    "    row['title'] = therapist.find(class_='result-suffix').text.replace('\\n', '')\n",
    "    row['phone'] = therapist.find(class_='result-phone').text.strip()\n",
    "    row['zipcode'] = therapist.find(itemprop='postalCode').text.strip()\n",
    "    rows.append(row)\n",
    "rows"
   ]
  },
  {
   "cell_type": "markdown",
   "metadata": {},
   "source": [
    "# Scrape all pages"
   ]
  },
  {
   "cell_type": "code",
   "execution_count": 4,
   "metadata": {},
   "outputs": [],
   "source": [
    "results_per_page = 20\n",
    "last_page = 6101\n",
    "page_count = round(last_page / results_per_page)\n",
    "pages = list(range(page_count))\n",
    "\n",
    "endpoint = 1\n",
    "endpoints = [1]\n",
    "for page in pages:\n",
    "    endpoint += 20\n",
    "    endpoints.append(endpoint)\n",
    "    \n",
    "## Rename the list of endpoints\n",
    "pages = endpoints"
   ]
  },
  {
   "cell_type": "code",
   "execution_count": 5,
   "metadata": {},
   "outputs": [
    {
     "ename": "KeyboardInterrupt",
     "evalue": "",
     "output_type": "error",
     "traceback": [
      "\u001b[0;31m---------------------------------------------------------------------------\u001b[0m",
      "\u001b[0;31mTypeError\u001b[0m                                 Traceback (most recent call last)",
      "\u001b[0;32m~/.pyenv/versions/3.6.5/lib/python3.6/site-packages/urllib3/connectionpool.py\u001b[0m in \u001b[0;36m_make_request\u001b[0;34m(self, conn, method, url, timeout, chunked, **httplib_request_kw)\u001b[0m\n\u001b[1;32m    378\u001b[0m                 \u001b[0;31m# Python 2.7, use buffering of HTTP responses\u001b[0m\u001b[0;34m\u001b[0m\u001b[0;34m\u001b[0m\u001b[0m\n\u001b[0;32m--> 379\u001b[0;31m                 \u001b[0mhttplib_response\u001b[0m \u001b[0;34m=\u001b[0m \u001b[0mconn\u001b[0m\u001b[0;34m.\u001b[0m\u001b[0mgetresponse\u001b[0m\u001b[0;34m(\u001b[0m\u001b[0mbuffering\u001b[0m\u001b[0;34m=\u001b[0m\u001b[0;32mTrue\u001b[0m\u001b[0;34m)\u001b[0m\u001b[0;34m\u001b[0m\u001b[0m\n\u001b[0m\u001b[1;32m    380\u001b[0m             \u001b[0;32mexcept\u001b[0m \u001b[0mTypeError\u001b[0m\u001b[0;34m:\u001b[0m\u001b[0;34m\u001b[0m\u001b[0m\n",
      "\u001b[0;31mTypeError\u001b[0m: getresponse() got an unexpected keyword argument 'buffering'",
      "\nDuring handling of the above exception, another exception occurred:\n",
      "\u001b[0;31mKeyboardInterrupt\u001b[0m                         Traceback (most recent call last)",
      "\u001b[0;32m<ipython-input-5-dbf28ffa3b74>\u001b[0m in \u001b[0;36m<module>\u001b[0;34m\u001b[0m\n\u001b[1;32m      4\u001b[0m \u001b[0;32mfor\u001b[0m \u001b[0mpage\u001b[0m \u001b[0;32min\u001b[0m \u001b[0mpages\u001b[0m\u001b[0;34m:\u001b[0m\u001b[0;34m\u001b[0m\u001b[0m\n\u001b[1;32m      5\u001b[0m     \u001b[0murl\u001b[0m \u001b[0;34m=\u001b[0m \u001b[0;34mf'https://www.psychologytoday.com/us/therapists/ny/new-york?sid=5d1f98636faae&rec_next={page}'\u001b[0m\u001b[0;34m\u001b[0m\u001b[0m\n\u001b[0;32m----> 6\u001b[0;31m     \u001b[0mresponse\u001b[0m \u001b[0;34m=\u001b[0m \u001b[0mrequests\u001b[0m\u001b[0;34m.\u001b[0m\u001b[0mget\u001b[0m\u001b[0;34m(\u001b[0m\u001b[0murl\u001b[0m\u001b[0;34m,\u001b[0m \u001b[0mheaders\u001b[0m\u001b[0;34m=\u001b[0m\u001b[0mheaders\u001b[0m\u001b[0;34m)\u001b[0m\u001b[0;34m\u001b[0m\u001b[0m\n\u001b[0m\u001b[1;32m      7\u001b[0m     \u001b[0mdoc\u001b[0m \u001b[0;34m=\u001b[0m \u001b[0mBeautifulSoup\u001b[0m\u001b[0;34m(\u001b[0m\u001b[0mresponse\u001b[0m\u001b[0;34m.\u001b[0m\u001b[0mtext\u001b[0m\u001b[0;34m)\u001b[0m\u001b[0;34m\u001b[0m\u001b[0m\n\u001b[1;32m      8\u001b[0m \u001b[0;34m\u001b[0m\u001b[0m\n",
      "\u001b[0;32m~/.pyenv/versions/3.6.5/lib/python3.6/site-packages/requests/api.py\u001b[0m in \u001b[0;36mget\u001b[0;34m(url, params, **kwargs)\u001b[0m\n\u001b[1;32m     73\u001b[0m \u001b[0;34m\u001b[0m\u001b[0m\n\u001b[1;32m     74\u001b[0m     \u001b[0mkwargs\u001b[0m\u001b[0;34m.\u001b[0m\u001b[0msetdefault\u001b[0m\u001b[0;34m(\u001b[0m\u001b[0;34m'allow_redirects'\u001b[0m\u001b[0;34m,\u001b[0m \u001b[0;32mTrue\u001b[0m\u001b[0;34m)\u001b[0m\u001b[0;34m\u001b[0m\u001b[0m\n\u001b[0;32m---> 75\u001b[0;31m     \u001b[0;32mreturn\u001b[0m \u001b[0mrequest\u001b[0m\u001b[0;34m(\u001b[0m\u001b[0;34m'get'\u001b[0m\u001b[0;34m,\u001b[0m \u001b[0murl\u001b[0m\u001b[0;34m,\u001b[0m \u001b[0mparams\u001b[0m\u001b[0;34m=\u001b[0m\u001b[0mparams\u001b[0m\u001b[0;34m,\u001b[0m \u001b[0;34m**\u001b[0m\u001b[0mkwargs\u001b[0m\u001b[0;34m)\u001b[0m\u001b[0;34m\u001b[0m\u001b[0m\n\u001b[0m\u001b[1;32m     76\u001b[0m \u001b[0;34m\u001b[0m\u001b[0m\n\u001b[1;32m     77\u001b[0m \u001b[0;34m\u001b[0m\u001b[0m\n",
      "\u001b[0;32m~/.pyenv/versions/3.6.5/lib/python3.6/site-packages/requests/api.py\u001b[0m in \u001b[0;36mrequest\u001b[0;34m(method, url, **kwargs)\u001b[0m\n\u001b[1;32m     58\u001b[0m     \u001b[0;31m# cases, and look like a memory leak in others.\u001b[0m\u001b[0;34m\u001b[0m\u001b[0;34m\u001b[0m\u001b[0m\n\u001b[1;32m     59\u001b[0m     \u001b[0;32mwith\u001b[0m \u001b[0msessions\u001b[0m\u001b[0;34m.\u001b[0m\u001b[0mSession\u001b[0m\u001b[0;34m(\u001b[0m\u001b[0;34m)\u001b[0m \u001b[0;32mas\u001b[0m \u001b[0msession\u001b[0m\u001b[0;34m:\u001b[0m\u001b[0;34m\u001b[0m\u001b[0m\n\u001b[0;32m---> 60\u001b[0;31m         \u001b[0;32mreturn\u001b[0m \u001b[0msession\u001b[0m\u001b[0;34m.\u001b[0m\u001b[0mrequest\u001b[0m\u001b[0;34m(\u001b[0m\u001b[0mmethod\u001b[0m\u001b[0;34m=\u001b[0m\u001b[0mmethod\u001b[0m\u001b[0;34m,\u001b[0m \u001b[0murl\u001b[0m\u001b[0;34m=\u001b[0m\u001b[0murl\u001b[0m\u001b[0;34m,\u001b[0m \u001b[0;34m**\u001b[0m\u001b[0mkwargs\u001b[0m\u001b[0;34m)\u001b[0m\u001b[0;34m\u001b[0m\u001b[0m\n\u001b[0m\u001b[1;32m     61\u001b[0m \u001b[0;34m\u001b[0m\u001b[0m\n\u001b[1;32m     62\u001b[0m \u001b[0;34m\u001b[0m\u001b[0m\n",
      "\u001b[0;32m~/.pyenv/versions/3.6.5/lib/python3.6/site-packages/requests/sessions.py\u001b[0m in \u001b[0;36mrequest\u001b[0;34m(self, method, url, params, data, headers, cookies, files, auth, timeout, allow_redirects, proxies, hooks, stream, verify, cert, json)\u001b[0m\n\u001b[1;32m    531\u001b[0m         }\n\u001b[1;32m    532\u001b[0m         \u001b[0msend_kwargs\u001b[0m\u001b[0;34m.\u001b[0m\u001b[0mupdate\u001b[0m\u001b[0;34m(\u001b[0m\u001b[0msettings\u001b[0m\u001b[0;34m)\u001b[0m\u001b[0;34m\u001b[0m\u001b[0m\n\u001b[0;32m--> 533\u001b[0;31m         \u001b[0mresp\u001b[0m \u001b[0;34m=\u001b[0m \u001b[0mself\u001b[0m\u001b[0;34m.\u001b[0m\u001b[0msend\u001b[0m\u001b[0;34m(\u001b[0m\u001b[0mprep\u001b[0m\u001b[0;34m,\u001b[0m \u001b[0;34m**\u001b[0m\u001b[0msend_kwargs\u001b[0m\u001b[0;34m)\u001b[0m\u001b[0;34m\u001b[0m\u001b[0m\n\u001b[0m\u001b[1;32m    534\u001b[0m \u001b[0;34m\u001b[0m\u001b[0m\n\u001b[1;32m    535\u001b[0m         \u001b[0;32mreturn\u001b[0m \u001b[0mresp\u001b[0m\u001b[0;34m\u001b[0m\u001b[0m\n",
      "\u001b[0;32m~/.pyenv/versions/3.6.5/lib/python3.6/site-packages/requests/sessions.py\u001b[0m in \u001b[0;36msend\u001b[0;34m(self, request, **kwargs)\u001b[0m\n\u001b[1;32m    644\u001b[0m \u001b[0;34m\u001b[0m\u001b[0m\n\u001b[1;32m    645\u001b[0m         \u001b[0;31m# Send the request\u001b[0m\u001b[0;34m\u001b[0m\u001b[0;34m\u001b[0m\u001b[0m\n\u001b[0;32m--> 646\u001b[0;31m         \u001b[0mr\u001b[0m \u001b[0;34m=\u001b[0m \u001b[0madapter\u001b[0m\u001b[0;34m.\u001b[0m\u001b[0msend\u001b[0m\u001b[0;34m(\u001b[0m\u001b[0mrequest\u001b[0m\u001b[0;34m,\u001b[0m \u001b[0;34m**\u001b[0m\u001b[0mkwargs\u001b[0m\u001b[0;34m)\u001b[0m\u001b[0;34m\u001b[0m\u001b[0m\n\u001b[0m\u001b[1;32m    647\u001b[0m \u001b[0;34m\u001b[0m\u001b[0m\n\u001b[1;32m    648\u001b[0m         \u001b[0;31m# Total elapsed time of the request (approximately)\u001b[0m\u001b[0;34m\u001b[0m\u001b[0;34m\u001b[0m\u001b[0m\n",
      "\u001b[0;32m~/.pyenv/versions/3.6.5/lib/python3.6/site-packages/requests/adapters.py\u001b[0m in \u001b[0;36msend\u001b[0;34m(self, request, stream, timeout, verify, cert, proxies)\u001b[0m\n\u001b[1;32m    447\u001b[0m                     \u001b[0mdecode_content\u001b[0m\u001b[0;34m=\u001b[0m\u001b[0;32mFalse\u001b[0m\u001b[0;34m,\u001b[0m\u001b[0;34m\u001b[0m\u001b[0m\n\u001b[1;32m    448\u001b[0m                     \u001b[0mretries\u001b[0m\u001b[0;34m=\u001b[0m\u001b[0mself\u001b[0m\u001b[0;34m.\u001b[0m\u001b[0mmax_retries\u001b[0m\u001b[0;34m,\u001b[0m\u001b[0;34m\u001b[0m\u001b[0m\n\u001b[0;32m--> 449\u001b[0;31m                     \u001b[0mtimeout\u001b[0m\u001b[0;34m=\u001b[0m\u001b[0mtimeout\u001b[0m\u001b[0;34m\u001b[0m\u001b[0m\n\u001b[0m\u001b[1;32m    450\u001b[0m                 )\n\u001b[1;32m    451\u001b[0m \u001b[0;34m\u001b[0m\u001b[0m\n",
      "\u001b[0;32m~/.pyenv/versions/3.6.5/lib/python3.6/site-packages/urllib3/connectionpool.py\u001b[0m in \u001b[0;36murlopen\u001b[0;34m(self, method, url, body, headers, retries, redirect, assert_same_host, timeout, pool_timeout, release_conn, chunked, body_pos, **response_kw)\u001b[0m\n\u001b[1;32m    601\u001b[0m                                                   \u001b[0mtimeout\u001b[0m\u001b[0;34m=\u001b[0m\u001b[0mtimeout_obj\u001b[0m\u001b[0;34m,\u001b[0m\u001b[0;34m\u001b[0m\u001b[0m\n\u001b[1;32m    602\u001b[0m                                                   \u001b[0mbody\u001b[0m\u001b[0;34m=\u001b[0m\u001b[0mbody\u001b[0m\u001b[0;34m,\u001b[0m \u001b[0mheaders\u001b[0m\u001b[0;34m=\u001b[0m\u001b[0mheaders\u001b[0m\u001b[0;34m,\u001b[0m\u001b[0;34m\u001b[0m\u001b[0m\n\u001b[0;32m--> 603\u001b[0;31m                                                   chunked=chunked)\n\u001b[0m\u001b[1;32m    604\u001b[0m \u001b[0;34m\u001b[0m\u001b[0m\n\u001b[1;32m    605\u001b[0m             \u001b[0;31m# If we're going to release the connection in ``finally:``, then\u001b[0m\u001b[0;34m\u001b[0m\u001b[0;34m\u001b[0m\u001b[0m\n",
      "\u001b[0;32m~/.pyenv/versions/3.6.5/lib/python3.6/site-packages/urllib3/connectionpool.py\u001b[0m in \u001b[0;36m_make_request\u001b[0;34m(self, conn, method, url, timeout, chunked, **httplib_request_kw)\u001b[0m\n\u001b[1;32m    381\u001b[0m                 \u001b[0;31m# Python 3\u001b[0m\u001b[0;34m\u001b[0m\u001b[0;34m\u001b[0m\u001b[0m\n\u001b[1;32m    382\u001b[0m                 \u001b[0;32mtry\u001b[0m\u001b[0;34m:\u001b[0m\u001b[0;34m\u001b[0m\u001b[0m\n\u001b[0;32m--> 383\u001b[0;31m                     \u001b[0mhttplib_response\u001b[0m \u001b[0;34m=\u001b[0m \u001b[0mconn\u001b[0m\u001b[0;34m.\u001b[0m\u001b[0mgetresponse\u001b[0m\u001b[0;34m(\u001b[0m\u001b[0;34m)\u001b[0m\u001b[0;34m\u001b[0m\u001b[0m\n\u001b[0m\u001b[1;32m    384\u001b[0m                 \u001b[0;32mexcept\u001b[0m \u001b[0mException\u001b[0m \u001b[0;32mas\u001b[0m \u001b[0me\u001b[0m\u001b[0;34m:\u001b[0m\u001b[0;34m\u001b[0m\u001b[0m\n\u001b[1;32m    385\u001b[0m                     \u001b[0;31m# Remove the TypeError from the exception chain in Python 3;\u001b[0m\u001b[0;34m\u001b[0m\u001b[0;34m\u001b[0m\u001b[0m\n",
      "\u001b[0;32m~/.pyenv/versions/3.6.5/lib/python3.6/http/client.py\u001b[0m in \u001b[0;36mgetresponse\u001b[0;34m(self)\u001b[0m\n\u001b[1;32m   1329\u001b[0m         \u001b[0;32mtry\u001b[0m\u001b[0;34m:\u001b[0m\u001b[0;34m\u001b[0m\u001b[0m\n\u001b[1;32m   1330\u001b[0m             \u001b[0;32mtry\u001b[0m\u001b[0;34m:\u001b[0m\u001b[0;34m\u001b[0m\u001b[0m\n\u001b[0;32m-> 1331\u001b[0;31m                 \u001b[0mresponse\u001b[0m\u001b[0;34m.\u001b[0m\u001b[0mbegin\u001b[0m\u001b[0;34m(\u001b[0m\u001b[0;34m)\u001b[0m\u001b[0;34m\u001b[0m\u001b[0m\n\u001b[0m\u001b[1;32m   1332\u001b[0m             \u001b[0;32mexcept\u001b[0m \u001b[0mConnectionError\u001b[0m\u001b[0;34m:\u001b[0m\u001b[0;34m\u001b[0m\u001b[0m\n\u001b[1;32m   1333\u001b[0m                 \u001b[0mself\u001b[0m\u001b[0;34m.\u001b[0m\u001b[0mclose\u001b[0m\u001b[0;34m(\u001b[0m\u001b[0;34m)\u001b[0m\u001b[0;34m\u001b[0m\u001b[0m\n",
      "\u001b[0;32m~/.pyenv/versions/3.6.5/lib/python3.6/http/client.py\u001b[0m in \u001b[0;36mbegin\u001b[0;34m(self)\u001b[0m\n\u001b[1;32m    295\u001b[0m         \u001b[0;31m# read until we get a non-100 response\u001b[0m\u001b[0;34m\u001b[0m\u001b[0;34m\u001b[0m\u001b[0m\n\u001b[1;32m    296\u001b[0m         \u001b[0;32mwhile\u001b[0m \u001b[0;32mTrue\u001b[0m\u001b[0;34m:\u001b[0m\u001b[0;34m\u001b[0m\u001b[0m\n\u001b[0;32m--> 297\u001b[0;31m             \u001b[0mversion\u001b[0m\u001b[0;34m,\u001b[0m \u001b[0mstatus\u001b[0m\u001b[0;34m,\u001b[0m \u001b[0mreason\u001b[0m \u001b[0;34m=\u001b[0m \u001b[0mself\u001b[0m\u001b[0;34m.\u001b[0m\u001b[0m_read_status\u001b[0m\u001b[0;34m(\u001b[0m\u001b[0;34m)\u001b[0m\u001b[0;34m\u001b[0m\u001b[0m\n\u001b[0m\u001b[1;32m    298\u001b[0m             \u001b[0;32mif\u001b[0m \u001b[0mstatus\u001b[0m \u001b[0;34m!=\u001b[0m \u001b[0mCONTINUE\u001b[0m\u001b[0;34m:\u001b[0m\u001b[0;34m\u001b[0m\u001b[0m\n\u001b[1;32m    299\u001b[0m                 \u001b[0;32mbreak\u001b[0m\u001b[0;34m\u001b[0m\u001b[0m\n",
      "\u001b[0;32m~/.pyenv/versions/3.6.5/lib/python3.6/http/client.py\u001b[0m in \u001b[0;36m_read_status\u001b[0;34m(self)\u001b[0m\n\u001b[1;32m    256\u001b[0m \u001b[0;34m\u001b[0m\u001b[0m\n\u001b[1;32m    257\u001b[0m     \u001b[0;32mdef\u001b[0m \u001b[0m_read_status\u001b[0m\u001b[0;34m(\u001b[0m\u001b[0mself\u001b[0m\u001b[0;34m)\u001b[0m\u001b[0;34m:\u001b[0m\u001b[0;34m\u001b[0m\u001b[0m\n\u001b[0;32m--> 258\u001b[0;31m         \u001b[0mline\u001b[0m \u001b[0;34m=\u001b[0m \u001b[0mstr\u001b[0m\u001b[0;34m(\u001b[0m\u001b[0mself\u001b[0m\u001b[0;34m.\u001b[0m\u001b[0mfp\u001b[0m\u001b[0;34m.\u001b[0m\u001b[0mreadline\u001b[0m\u001b[0;34m(\u001b[0m\u001b[0m_MAXLINE\u001b[0m \u001b[0;34m+\u001b[0m \u001b[0;36m1\u001b[0m\u001b[0;34m)\u001b[0m\u001b[0;34m,\u001b[0m \u001b[0;34m\"iso-8859-1\"\u001b[0m\u001b[0;34m)\u001b[0m\u001b[0;34m\u001b[0m\u001b[0m\n\u001b[0m\u001b[1;32m    259\u001b[0m         \u001b[0;32mif\u001b[0m \u001b[0mlen\u001b[0m\u001b[0;34m(\u001b[0m\u001b[0mline\u001b[0m\u001b[0;34m)\u001b[0m \u001b[0;34m>\u001b[0m \u001b[0m_MAXLINE\u001b[0m\u001b[0;34m:\u001b[0m\u001b[0;34m\u001b[0m\u001b[0m\n\u001b[1;32m    260\u001b[0m             \u001b[0;32mraise\u001b[0m \u001b[0mLineTooLong\u001b[0m\u001b[0;34m(\u001b[0m\u001b[0;34m\"status line\"\u001b[0m\u001b[0;34m)\u001b[0m\u001b[0;34m\u001b[0m\u001b[0m\n",
      "\u001b[0;32m~/.pyenv/versions/3.6.5/lib/python3.6/socket.py\u001b[0m in \u001b[0;36mreadinto\u001b[0;34m(self, b)\u001b[0m\n\u001b[1;32m    584\u001b[0m         \u001b[0;32mwhile\u001b[0m \u001b[0;32mTrue\u001b[0m\u001b[0;34m:\u001b[0m\u001b[0;34m\u001b[0m\u001b[0m\n\u001b[1;32m    585\u001b[0m             \u001b[0;32mtry\u001b[0m\u001b[0;34m:\u001b[0m\u001b[0;34m\u001b[0m\u001b[0m\n\u001b[0;32m--> 586\u001b[0;31m                 \u001b[0;32mreturn\u001b[0m \u001b[0mself\u001b[0m\u001b[0;34m.\u001b[0m\u001b[0m_sock\u001b[0m\u001b[0;34m.\u001b[0m\u001b[0mrecv_into\u001b[0m\u001b[0;34m(\u001b[0m\u001b[0mb\u001b[0m\u001b[0;34m)\u001b[0m\u001b[0;34m\u001b[0m\u001b[0m\n\u001b[0m\u001b[1;32m    587\u001b[0m             \u001b[0;32mexcept\u001b[0m \u001b[0mtimeout\u001b[0m\u001b[0;34m:\u001b[0m\u001b[0;34m\u001b[0m\u001b[0m\n\u001b[1;32m    588\u001b[0m                 \u001b[0mself\u001b[0m\u001b[0;34m.\u001b[0m\u001b[0m_timeout_occurred\u001b[0m \u001b[0;34m=\u001b[0m \u001b[0;32mTrue\u001b[0m\u001b[0;34m\u001b[0m\u001b[0m\n",
      "\u001b[0;32m~/.pyenv/versions/3.6.5/lib/python3.6/ssl.py\u001b[0m in \u001b[0;36mrecv_into\u001b[0;34m(self, buffer, nbytes, flags)\u001b[0m\n\u001b[1;32m   1007\u001b[0m                   \u001b[0;34m\"non-zero flags not allowed in calls to recv_into() on %s\"\u001b[0m \u001b[0;34m%\u001b[0m\u001b[0;34m\u001b[0m\u001b[0m\n\u001b[1;32m   1008\u001b[0m                   self.__class__)\n\u001b[0;32m-> 1009\u001b[0;31m             \u001b[0;32mreturn\u001b[0m \u001b[0mself\u001b[0m\u001b[0;34m.\u001b[0m\u001b[0mread\u001b[0m\u001b[0;34m(\u001b[0m\u001b[0mnbytes\u001b[0m\u001b[0;34m,\u001b[0m \u001b[0mbuffer\u001b[0m\u001b[0;34m)\u001b[0m\u001b[0;34m\u001b[0m\u001b[0m\n\u001b[0m\u001b[1;32m   1010\u001b[0m         \u001b[0;32melse\u001b[0m\u001b[0;34m:\u001b[0m\u001b[0;34m\u001b[0m\u001b[0m\n\u001b[1;32m   1011\u001b[0m             \u001b[0;32mreturn\u001b[0m \u001b[0msocket\u001b[0m\u001b[0;34m.\u001b[0m\u001b[0mrecv_into\u001b[0m\u001b[0;34m(\u001b[0m\u001b[0mself\u001b[0m\u001b[0;34m,\u001b[0m \u001b[0mbuffer\u001b[0m\u001b[0;34m,\u001b[0m \u001b[0mnbytes\u001b[0m\u001b[0;34m,\u001b[0m \u001b[0mflags\u001b[0m\u001b[0;34m)\u001b[0m\u001b[0;34m\u001b[0m\u001b[0m\n",
      "\u001b[0;32m~/.pyenv/versions/3.6.5/lib/python3.6/ssl.py\u001b[0m in \u001b[0;36mread\u001b[0;34m(self, len, buffer)\u001b[0m\n\u001b[1;32m    869\u001b[0m             \u001b[0;32mraise\u001b[0m \u001b[0mValueError\u001b[0m\u001b[0;34m(\u001b[0m\u001b[0;34m\"Read on closed or unwrapped SSL socket.\"\u001b[0m\u001b[0;34m)\u001b[0m\u001b[0;34m\u001b[0m\u001b[0m\n\u001b[1;32m    870\u001b[0m         \u001b[0;32mtry\u001b[0m\u001b[0;34m:\u001b[0m\u001b[0;34m\u001b[0m\u001b[0m\n\u001b[0;32m--> 871\u001b[0;31m             \u001b[0;32mreturn\u001b[0m \u001b[0mself\u001b[0m\u001b[0;34m.\u001b[0m\u001b[0m_sslobj\u001b[0m\u001b[0;34m.\u001b[0m\u001b[0mread\u001b[0m\u001b[0;34m(\u001b[0m\u001b[0mlen\u001b[0m\u001b[0;34m,\u001b[0m \u001b[0mbuffer\u001b[0m\u001b[0;34m)\u001b[0m\u001b[0;34m\u001b[0m\u001b[0m\n\u001b[0m\u001b[1;32m    872\u001b[0m         \u001b[0;32mexcept\u001b[0m \u001b[0mSSLError\u001b[0m \u001b[0;32mas\u001b[0m \u001b[0mx\u001b[0m\u001b[0;34m:\u001b[0m\u001b[0;34m\u001b[0m\u001b[0m\n\u001b[1;32m    873\u001b[0m             \u001b[0;32mif\u001b[0m \u001b[0mx\u001b[0m\u001b[0;34m.\u001b[0m\u001b[0margs\u001b[0m\u001b[0;34m[\u001b[0m\u001b[0;36m0\u001b[0m\u001b[0;34m]\u001b[0m \u001b[0;34m==\u001b[0m \u001b[0mSSL_ERROR_EOF\u001b[0m \u001b[0;32mand\u001b[0m \u001b[0mself\u001b[0m\u001b[0;34m.\u001b[0m\u001b[0msuppress_ragged_eofs\u001b[0m\u001b[0;34m:\u001b[0m\u001b[0;34m\u001b[0m\u001b[0m\n",
      "\u001b[0;32m~/.pyenv/versions/3.6.5/lib/python3.6/ssl.py\u001b[0m in \u001b[0;36mread\u001b[0;34m(self, len, buffer)\u001b[0m\n\u001b[1;32m    629\u001b[0m         \"\"\"\n\u001b[1;32m    630\u001b[0m         \u001b[0;32mif\u001b[0m \u001b[0mbuffer\u001b[0m \u001b[0;32mis\u001b[0m \u001b[0;32mnot\u001b[0m \u001b[0;32mNone\u001b[0m\u001b[0;34m:\u001b[0m\u001b[0;34m\u001b[0m\u001b[0m\n\u001b[0;32m--> 631\u001b[0;31m             \u001b[0mv\u001b[0m \u001b[0;34m=\u001b[0m \u001b[0mself\u001b[0m\u001b[0;34m.\u001b[0m\u001b[0m_sslobj\u001b[0m\u001b[0;34m.\u001b[0m\u001b[0mread\u001b[0m\u001b[0;34m(\u001b[0m\u001b[0mlen\u001b[0m\u001b[0;34m,\u001b[0m \u001b[0mbuffer\u001b[0m\u001b[0;34m)\u001b[0m\u001b[0;34m\u001b[0m\u001b[0m\n\u001b[0m\u001b[1;32m    632\u001b[0m         \u001b[0;32melse\u001b[0m\u001b[0;34m:\u001b[0m\u001b[0;34m\u001b[0m\u001b[0m\n\u001b[1;32m    633\u001b[0m             \u001b[0mv\u001b[0m \u001b[0;34m=\u001b[0m \u001b[0mself\u001b[0m\u001b[0;34m.\u001b[0m\u001b[0m_sslobj\u001b[0m\u001b[0;34m.\u001b[0m\u001b[0mread\u001b[0m\u001b[0;34m(\u001b[0m\u001b[0mlen\u001b[0m\u001b[0;34m)\u001b[0m\u001b[0;34m\u001b[0m\u001b[0m\n",
      "\u001b[0;31mKeyboardInterrupt\u001b[0m: "
     ]
    }
   ],
   "source": [
    "rows = []\n",
    "errors=[]\n",
    "\n",
    "for page in pages:\n",
    "    url = f'https://www.psychologytoday.com/us/therapists/ny/new-york?sid=5d1f98636faae&rec_next={page}'\n",
    "    response = requests.get(url, headers=headers)\n",
    "    doc = BeautifulSoup(response.text)\n",
    "\n",
    "    therapists = doc.find_all(class_='result-row')\n",
    "    for therapist in therapists:\n",
    "        try:\n",
    "            row = {}\n",
    "            row['name'] = therapist.find(itemprop='name').text.strip()\n",
    "            row['url'] = therapist.find(itemprop='url')['href']\n",
    "            row['description'] = therapist.find(itemprop='description').text.strip()\n",
    "            row['phone'] = therapist.find(class_='result-phone').text.strip()\n",
    "            row['zipcode'] = therapist.find(itemprop='postalCode').text.strip()\n",
    "\n",
    "            try:\n",
    "                row['title'] = therapist.find(class_='result-suffix').text.replace('\\n', '')\n",
    "            except:\n",
    "                row['title'] = 'No title'\n",
    "        except:\n",
    "                errors.append(therapist)\n",
    "                print(therapist.find(itemprop='name').text.strip())\n",
    "        rows.append(row)\n",
    "rows"
   ]
  },
  {
   "cell_type": "markdown",
   "metadata": {},
   "source": [
    "# Transform the list of dictionaries into dataframe & csv"
   ]
  },
  {
   "cell_type": "code",
   "execution_count": null,
   "metadata": {},
   "outputs": [],
   "source": [
    "df_basic_info = pd.DataFrame(rows)"
   ]
  },
  {
   "cell_type": "code",
   "execution_count": null,
   "metadata": {},
   "outputs": [],
   "source": [
    "df_basic_info.to_csv('nyc_therapists.csv', index=False)"
   ]
  },
  {
   "cell_type": "markdown",
   "metadata": {},
   "source": [
    "# Scrape more data for each therapist"
   ]
  },
  {
   "cell_type": "markdown",
   "metadata": {},
   "source": [
    "### Try with one therapist"
   ]
  },
  {
   "cell_type": "code",
   "execution_count": null,
   "metadata": {},
   "outputs": [],
   "source": [
    "# url = 'https://www.psychologytoday.com/us/therapists/ny/new-york/241735?sid=5d1f98636faae&ref=1&rec_next=1&tr=ResultsName'\n",
    "# response = requests.get(url, headers=headers)\n",
    "# doc = BeautifulSoup(response.text)\n",
    "# name = doc.find(itemprop='name').text.strip()\n",
    "\n",
    "# name = doc.find(itemprop='name').text.strip()\n",
    "# yrs_in_practice = doc.find(text='Years in Practice:').next_element.strip()\n",
    "# school = doc.find(text='School:').next_element.strip()\n",
    "# grad_yr = doc.find(text='Year Graduated:').next_element.strip()\n",
    "# license_state = doc.find(text='License and State:').next_element.strip()\n",
    "# specialities = doc.find(class_='spec-list attributes-top').text.strip()\n",
    "# issues = doc.find(class_='attributes-issues').find(class_='col-split-md-2').text.strip()\n",
    "# mental_health = doc.find(class_='attributes-mental-health').find(class_='col-split-md-2').text.strip()\n",
    "# sexuality = doc.find(class_='attributes-sexuality').find(class_='col-split-md-2').text.strip()\n",
    "# race_focus = doc.find(class_='attributes-ethnicity-focus').text.strip().split('Ethnicity:\\n')[1]\n",
    "# lang = doc.find(class_='attributes-language').text.strip().split('I also speak:\\n')[1]\n",
    "# age_focus = doc.find(class_='attributes-age-focus').text.strip().split('Age')[1].strip()\n",
    "# community_focus = doc.find(class_='spec-list attributes-categories').text.split('Communities\\n')[1].strip()\n",
    "# therapy_types = doc.find(class_='attributes-treatment-orientation').find('div').text.strip()"
   ]
  },
  {
   "cell_type": "code",
   "execution_count": null,
   "metadata": {},
   "outputs": [],
   "source": [
    "therapist_info = []\n",
    "for row in rows:\n",
    "    url = row['url']\n",
    "    response = requests.get(url, headers=headers)\n",
    "    doc = BeautifulSoup(response.text)\n",
    "    name = doc.find(itemprop='name').text.strip()\n",
    "    try:\n",
    "        row['yrs_in_practice'] = doc.find(text='Years in Practice:').next_element.strip()\n",
    "    except:\n",
    "        row['yrs_in_practice'] = 'None'\n",
    "    try:\n",
    "        row['school'] = doc.find(text='School:').next_element.strip()\n",
    "    except:\n",
    "        row['school'] = 'None'\n",
    "    try:\n",
    "        row['grad_yr'] = doc.find(text='Year Graduated:').next_element.strip()\n",
    "    except:\n",
    "        row['grad_yr'] = np.nan\n",
    "    try:\n",
    "        row['license_state'] = doc.find(text='License and State:').next_element.strip()\n",
    "    except:\n",
    "        row['license_state'] = 'None'\n",
    "    try:\n",
    "        row['specialities'] = doc.find(class_='spec-list attributes-top').text.strip()\n",
    "    except:\n",
    "        row['specialities'] = 'None'\n",
    "    try:\n",
    "        row['issues'] = doc.find(class_='attributes-issues').find(class_='col-split-md-2').text.strip()\n",
    "    except:\n",
    "        row['issues'] = 'None'\n",
    "    try:\n",
    "        row['mental_health'] = doc.find(class_='attributes-mental-health').find(class_='col-split-md-2').text.strip()\n",
    "    except:\n",
    "        row['mental_health'] = 'None'\n",
    "    try:\n",
    "        row['sexuality'] = doc.find(class_='attributes-sexuality').find(class_='col-split-md-2').text.strip()\n",
    "    except:\n",
    "        row['sexuality'] = 'None'\n",
    "    try:\n",
    "        row['race_focus'] = doc.find(class_='attributes-ethnicity-focus').text.strip().split('Ethnicity:\\n')[1]\n",
    "    except:\n",
    "        row['race_focus'] = 'None'\n",
    "    try:\n",
    "        row['lang'] = doc.find(class_='attributes-language').text.strip().split('I also speak:\\n')[1]\n",
    "    except:\n",
    "        row['lang'] = 'None'\n",
    "    try:\n",
    "        row['age_focus'] = doc.find(class_='attributes-age-focus').text.strip().split('Age')[1].strip()\n",
    "    except:\n",
    "        row['age_focus'] = 'None'\n",
    "    try:\n",
    "        row['community_focus'] = doc.find(class_='spec-list attributes-categories').text.split('Communities\\n')[1].strip()\n",
    "    except:\n",
    "        row['community_focus'] = 'None'\n",
    "    try:\n",
    "        row['therapy_types'] = doc.find(class_='attributes-treatment-orientation').find('div').text.strip()\n",
    "    except:\n",
    "        row['therapy_types'] = 'None'\n",
    "    \n",
    "    therapist_info.append(row)\n",
    "    \n",
    "therapist_info"
   ]
  },
  {
   "cell_type": "code",
   "execution_count": null,
   "metadata": {},
   "outputs": [],
   "source": [
    "len(therapist_info)"
   ]
  },
  {
   "cell_type": "markdown",
   "metadata": {},
   "source": [
    "# Save scraped ata as csv"
   ]
  },
  {
   "cell_type": "code",
   "execution_count": null,
   "metadata": {},
   "outputs": [],
   "source": [
    "df = pd.DataFrame(therapist_info)\n",
    "df.to_csv('nyc_therapists_complete.csv', index=False)"
   ]
  }
 ],
 "metadata": {
  "kernelspec": {
   "display_name": "Python 3",
   "language": "python",
   "name": "python3"
  },
  "language_info": {
   "codemirror_mode": {
    "name": "ipython",
    "version": 3
   },
   "file_extension": ".py",
   "mimetype": "text/x-python",
   "name": "python",
   "nbconvert_exporter": "python",
   "pygments_lexer": "ipython3",
   "version": "3.6.5"
  }
 },
 "nbformat": 4,
 "nbformat_minor": 2
}
